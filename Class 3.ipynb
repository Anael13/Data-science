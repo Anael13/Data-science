{
 "cells": [
  {
   "cell_type": "code",
   "execution_count": 1,
   "id": "a8ee0124",
   "metadata": {},
   "outputs": [
    {
     "name": "stdout",
     "output_type": "stream",
     "text": [
      "Because of Lahore Quetta also got discolified\n"
     ]
    }
   ],
   "source": [
    "cities = ['Karachi', 'Lahore', 'Quetta', 'Peshwar']\n",
    "print('Because of',cities[1],cities[2], 'also got discolified')"
   ]
  },
  {
   "cell_type": "code",
   "execution_count": 2,
   "id": "98b4bd2f",
   "metadata": {},
   "outputs": [
    {
     "name": "stdout",
     "output_type": "stream",
     "text": [
      "['Karachi', 'Lahore', 'Quetta', 'Peshwar', 'Multan', 'Islamabad', 'Larkana', 'Kashmir']\n"
     ]
    }
   ],
   "source": [
    "cities = ['Karachi', 'Lahore', 'Quetta', 'Peshwar', 'Multan']\n",
    "cities.append('Islamabad')\n",
    "cities = cities + ['Larkana', 'Kashmir']\n",
    "print(cities)"
   ]
  },
  {
   "cell_type": "code",
   "execution_count": 3,
   "id": "cdf19602",
   "metadata": {},
   "outputs": [],
   "source": [
    "cities2 = cities + ['Hyderabad', 'Sukkr']                                                                                                                              "
   ]
  },
  {
   "cell_type": "code",
   "execution_count": 4,
   "id": "2de6abcb",
   "metadata": {},
   "outputs": [
    {
     "name": "stdout",
     "output_type": "stream",
     "text": [
      "['Karachi', 'Lahore', 'Quetta', 'Peshwar', 'Multan', 'Islamabad', 'Larkana', 'Kashmir', 'Hyderabad', 'Sukkr']\n"
     ]
    }
   ],
   "source": [
    "print(cities2)\n",
    "\n"
   ]
  },
  {
   "cell_type": "code",
   "execution_count": 5,
   "id": "8f0a816a",
   "metadata": {},
   "outputs": [
    {
     "name": "stdout",
     "output_type": "stream",
     "text": [
      "['Karachi', 'Lahore', 'Quetta', 'Rawalpindi', 'Peshwar', 'Multan', 'Islamabad', 'Larkana', 'Kashmir', 'Hyderabad', 'Sukkr']\n"
     ]
    }
   ],
   "source": [
    "cities2.insert(3, \"Rawalpindi\")\n",
    "print(cities2)"
   ]
  },
  {
   "cell_type": "code",
   "execution_count": 6,
   "id": "c2bc8820",
   "metadata": {},
   "outputs": [],
   "source": [
    "Numbers_1 = [1, 2, 33 ,4 ,34 ,5 ,36 ,5 ,5 ,47 ,65 ,67 ,7 ,5 ,67 ,4 ,53 ,54 ,32 ,42 ,3,42,654,6,3,56,34,3,6,65,3,42,542,5,4,6,5,32,42,5,4,6]\n",
    "Numbers_2 = [0.5, 55, 0.7, 43, 34, 34, 654, 88]\n",
    "Names_1 = ['Afghanistan', 'Albania', 'Algeria', 'Andorra']"
   ]
  },
  {
   "cell_type": "code",
   "execution_count": 7,
   "id": "e383a51f",
   "metadata": {},
   "outputs": [
    {
     "name": "stdout",
     "output_type": "stream",
     "text": [
      "['Quetta', 'Lahore', 'Karachi', 'Rawalpindi', 'Peshwar', 'Multan', 'Islamabad', 'Larkana', 'Kashmir', 'Hyderabad', 'Sukkr']\n"
     ]
    }
   ],
   "source": [
    "cities2[0] = 'Quetta'\n",
    "cities2[2] = 'Karachi'\n",
    "print(cities2)"
   ]
  },
  {
   "cell_type": "code",
   "execution_count": 8,
   "id": "50734760",
   "metadata": {
    "scrolled": true
   },
   "outputs": [
    {
     "name": "stdout",
     "output_type": "stream",
     "text": [
      "['Quetta', ['Lahore'], 'Karachi', 'Rawalpindi', 'Peshwar', 'Multan', ['Islamabad'], 'Larkana', 'Kashmir', 'Hyderabad', 'Sukkr']\n"
     ]
    }
   ],
   "source": [
    "cities2[1] = ['Lahore']\n",
    "cities2[6] = ['Islamabad']\n",
    "print(cities2)"
   ]
  },
  {
   "cell_type": "code",
   "execution_count": 9,
   "id": "abfa8311",
   "metadata": {
    "scrolled": true
   },
   "outputs": [
    {
     "name": "stdout",
     "output_type": "stream",
     "text": [
      "[['Lahore'], 'Quetta', 'Karachi', 'Rawalpindi', 'Peshwar', 'Multan', ['Islamabad'], 'Larkana', 'Kashmir', 'Hyderabad', 'Sukkr']\n"
     ]
    }
   ],
   "source": [
    "temp_cities = cities2[0]\n",
    "cities2[0] = cities2[1]\n",
    "cities2[1] = temp_cities\n",
    "print(cities2)"
   ]
  },
  {
   "cell_type": "code",
   "execution_count": 10,
   "id": "d7f49256",
   "metadata": {},
   "outputs": [
    {
     "name": "stdout",
     "output_type": "stream",
     "text": [
      "['Lahore', 'Karachi', 'Quetta', 'Rawalpindi', 'Peshwar', 'Multan', 'Islamabad', 'Larkana', 'Kashmir', 'Hyderabad', 'Sukkr']\n"
     ]
    }
   ],
   "source": [
    "cities = ['Karachi', 'Lahore', 'Quetta', 'Rawalpindi', 'Peshwar', 'Multan', 'Islamabad']\n",
    "overall_cities = cities + ['Larkana', 'Kashmir', 'Hyderabad', 'Sukkr']\n",
    "\n",
    "temp_cities = overall_cities[0]\n",
    "overall_cities[0] = overall_cities[1]\n",
    "overall_cities[1] = temp_cities\n",
    "print(overall_cities)"
   ]
  },
  {
   "cell_type": "code",
   "execution_count": 11,
   "id": "507f40b7",
   "metadata": {},
   "outputs": [],
   "source": [
    "cities = ['Karachi', 'Lahore', 'Quetta', 'Rawalpindi', 'Peshwar', 'Multan', 'Islamabad']\n",
    "overall_cities = cities + ['Larkana', 'Kashmir', 'Hyderabad', 'Sukkr']"
   ]
  },
  {
   "cell_type": "code",
   "execution_count": 12,
   "id": "425cdf98",
   "metadata": {},
   "outputs": [
    {
     "data": {
      "text/plain": [
       "['Sukkr',\n",
       " 'Hyderabad',\n",
       " 'Kashmir',\n",
       " 'Larkana',\n",
       " 'Islamabad',\n",
       " 'Multan',\n",
       " 'Peshwar',\n",
       " 'Rawalpindi',\n",
       " 'Quetta',\n",
       " 'Lahore',\n",
       " 'Karachi']"
      ]
     },
     "execution_count": 12,
     "metadata": {},
     "output_type": "execute_result"
    }
   ],
   "source": [
    "overall_cities[::-1]\n"
   ]
  },
  {
   "cell_type": "code",
   "execution_count": 13,
   "id": "ddf89f05",
   "metadata": {},
   "outputs": [
    {
     "name": "stdout",
     "output_type": "stream",
     "text": [
      "['Karachi', 'Quetta', 'Rawalpindi', 'Peshwar', 'Multan', 'Islamabad', 'Larkana', 'Kashmir', 'Hyderabad', 'Sukkr']\n"
     ]
    }
   ],
   "source": [
    "overall_cities.remove('Lahore')\n",
    "print(overall_cities)"
   ]
  },
  {
   "cell_type": "code",
   "execution_count": 14,
   "id": "dfcb27d2",
   "metadata": {},
   "outputs": [
    {
     "name": "stdout",
     "output_type": "stream",
     "text": [
      "['Karachi', 'Rawalpindi', 'Peshwar', 'Multan', 'Islamabad', 'Larkana', 'Kashmir', 'Hyderabad', 'Sukkr']\n"
     ]
    }
   ],
   "source": [
    "del overall_cities[1]\n",
    "print(overall_cities)"
   ]
  },
  {
   "cell_type": "code",
   "execution_count": null,
   "id": "082e4e2a",
   "metadata": {},
   "outputs": [],
   "source": [
    "cities = ['Karachi', 'Lahore', 'Quetta', 'Rawalpindi', 'Peshwar', 'Multan', 'Islamabad']\n",
    "overall_cities = cities + ['Larkana', 'Kashmir', 'Hyderabad', 'Sukkr']"
   ]
  },
  {
   "cell_type": "code",
   "execution_count": 30,
   "id": "a51b9362",
   "metadata": {},
   "outputs": [],
   "source": [
    "sindh_cities = []\n",
    "sindh_cities.append(overall_cities.pop(3))\n"
   ]
  },
  {
   "cell_type": "code",
   "execution_count": null,
   "id": "f3dac5ab",
   "metadata": {},
   "outputs": [],
   "source": [
    "print(sindh_cities)"
   ]
  },
  {
   "cell_type": "code",
   "execution_count": 1,
   "id": "32eafb11",
   "metadata": {},
   "outputs": [
    {
     "name": "stdout",
     "output_type": "stream",
     "text": [
      "('Karachi', 'Lahore', 'Quetta', 'Rawalpindi', 'Peshwar', 'Multan', 'Islamabad')\n"
     ]
    }
   ],
   "source": [
    "t = ('Karachi', 'Lahore', 'Quetta', 'Rawalpindi', 'Peshwar', 'Multan', 'Islamabad') \n",
    "print(t)"
   ]
  },
  {
   "cell_type": "code",
   "execution_count": null,
   "id": "640d4c77",
   "metadata": {},
   "outputs": [],
   "source": []
  }
 ],
 "metadata": {
  "kernelspec": {
   "display_name": "Python 3",
   "language": "python",
   "name": "python3"
  },
  "language_info": {
   "codemirror_mode": {
    "name": "ipython",
    "version": 3
   },
   "file_extension": ".py",
   "mimetype": "text/x-python",
   "name": "python",
   "nbconvert_exporter": "python",
   "pygments_lexer": "ipython3",
   "version": "3.8.8"
  }
 },
 "nbformat": 4,
 "nbformat_minor": 5
}
