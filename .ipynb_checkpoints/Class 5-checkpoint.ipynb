{
 "cells": [
  {
   "cell_type": "code",
   "execution_count": 1,
   "id": "76b2529f",
   "metadata": {},
   "outputs": [],
   "source": [
    "contact_book = {\n",
    "    'Anael' : \"90056490543\", \n",
    "    'Ali' : \"6584675447\"\n",
    "}\n"
   ]
  },
  {
   "cell_type": "code",
   "execution_count": 2,
   "id": "2b33f69b",
   "metadata": {},
   "outputs": [
    {
     "name": "stdout",
     "output_type": "stream",
     "text": [
      "90056490543\n"
     ]
    }
   ],
   "source": [
    "print(contact_book['Anael'])"
   ]
  },
  {
   "cell_type": "code",
   "execution_count": 3,
   "id": "50bc14bb",
   "metadata": {},
   "outputs": [],
   "source": [
    "contact_book['test'] = '49583539786'"
   ]
  },
  {
   "cell_type": "code",
   "execution_count": 4,
   "id": "352c571c",
   "metadata": {},
   "outputs": [],
   "source": [
    "del contact_book['test']"
   ]
  },
  {
   "cell_type": "code",
   "execution_count": 5,
   "id": "bd50ac40",
   "metadata": {},
   "outputs": [
    {
     "name": "stdout",
     "output_type": "stream",
     "text": [
      "{'Anael': '90056490543', 'Ali': '6584675447'}\n"
     ]
    }
   ],
   "source": [
    "print(contact_book)\n"
   ]
  },
  {
   "cell_type": "code",
   "execution_count": 2,
   "id": "2d241ae2",
   "metadata": {},
   "outputs": [],
   "source": [
    "name_age = {\n",
    "    \"Umer\" : '50',\n",
    "    \"Ali\" : '20',\n",
    "    \"Affan\" : '1',\n",
    "    \"Usman\" : '40',\n",
    "    \"Anael\" : '43',\n",
    "    \"Bilal\" : '50'\n",
    "}\n",
    "\n",
    "name_number = {\n",
    "    \"Umer\" : '5650',\n",
    "    \"Ali\" : '20657',\n",
    "    \"Affan\" : '54651',\n",
    "    \"Usman\" : '454640',\n",
    "    \"Anael\" : '4456453',\n",
    "    \"Bilal\" : '554640'\n",
    "}\n"
   ]
  },
  {
   "cell_type": "code",
   "execution_count": 3,
   "id": "77ca1c6c",
   "metadata": {},
   "outputs": [
    {
     "name": "stdout",
     "output_type": "stream",
     "text": [
      "Umer 50\n",
      "Ali 20\n",
      "Affan 1\n",
      "Usman 40\n",
      "Anael 43\n",
      "Bilal 50\n"
     ]
    }
   ],
   "source": [
    "for key, value in name_age.items():\n",
    "        print(key, value)"
   ]
  },
  {
   "cell_type": "code",
   "execution_count": 10,
   "id": "005c9080",
   "metadata": {},
   "outputs": [],
   "source": [
    "costumer = []"
   ]
  },
  {
   "cell_type": "code",
   "execution_count": 11,
   "id": "87540b20",
   "metadata": {},
   "outputs": [
    {
     "name": "stdout",
     "output_type": "stream",
     "text": [
      "Enter your name: Ali\n",
      "Enter your phone number: Ali\n",
      "Enter your email: Ali\n"
     ]
    }
   ],
   "source": [
    "name = input(\"Enter your name: \")\n",
    "number = input(\"Enter your phone number: \")\n",
    "email = input(\"Enter your email: \")\n",
    "\n",
    "temp_dict = {}\n",
    "temp_dict['_name'] = name\n",
    "temp_dict['_number'] = number\n",
    "temp_dict['_email'] = email\n",
    "\n",
    "costumer.append(temp_dict)"
   ]
  },
  {
   "cell_type": "code",
   "execution_count": 12,
   "id": "7aab899c",
   "metadata": {},
   "outputs": [
    {
     "name": "stdout",
     "output_type": "stream",
     "text": [
      "[{'_name': 'Ali', '_number': 'Ali', '_email': 'Ali'}]\n"
     ]
    }
   ],
   "source": [
    "print(costumer)"
   ]
  },
  {
   "cell_type": "code",
   "execution_count": 14,
   "id": "80cee2be",
   "metadata": {},
   "outputs": [
    {
     "name": "stdout",
     "output_type": "stream",
     "text": [
      "[{'_name': 'Ali', '_number': 'Ali', '_email': 'ammar'}]\n"
     ]
    }
   ],
   "source": [
    "costumer[0]['_email'] = 'ammar'\n",
    "print(costumer)"
   ]
  },
  {
   "cell_type": "code",
   "execution_count": 22,
   "id": "e381aba7",
   "metadata": {},
   "outputs": [],
   "source": [
    "customer_29876 = {\n",
    "    \"first name\": \"David\",\n",
    "    \"lastname\": \"Elliott\",\n",
    "    \"numbers\" : [\"0432324\", \"5423454\", \"453453245\"],\n",
    "    \"address\": \"4803 Wellesley St.\"\n",
    "}\n"
   ]
  },
  {
   "cell_type": "code",
   "execution_count": 24,
   "id": "0a0de650",
   "metadata": {},
   "outputs": [
    {
     "data": {
      "text/plain": [
       "'5423454'"
      ]
     },
     "execution_count": 24,
     "metadata": {},
     "output_type": "execute_result"
    }
   ],
   "source": [
    "customer_29876['numbers'][1]\n"
   ]
  },
  {
   "cell_type": "code",
   "execution_count": 36,
   "id": "f239d7dc",
   "metadata": {},
   "outputs": [],
   "source": [
    "dict_costumer = {}"
   ]
  },
  {
   "cell_type": "code",
   "execution_count": 41,
   "id": "4d5a162d",
   "metadata": {},
   "outputs": [
    {
     "name": "stdout",
     "output_type": "stream",
     "text": [
      "Enter your name: Anael\n",
      "Enter your phone number: 32454243\n",
      "Enter your email: anael123@gmail.com\n"
     ]
    }
   ],
   "source": [
    "name = input(\"Enter your name: \")\n",
    "number = input(\"Enter your phone number: \")\n",
    "email = input(\"Enter your email: \")\n",
    "\n",
    "temp_dict = {}\n",
    "temp_dict['_name'] = name\n",
    "temp_dict['_number'] = number\n",
    "temp_dict['_email'] = email\n",
    "\n",
    "dict_costumer[email] = temp_dict"
   ]
  },
  {
   "cell_type": "code",
   "execution_count": 43,
   "id": "bb766e32",
   "metadata": {},
   "outputs": [
    {
     "data": {
      "text/plain": [
       "'Anael'"
      ]
     },
     "execution_count": 43,
     "metadata": {},
     "output_type": "execute_result"
    }
   ],
   "source": [
    "dict_costumer['anael123@gmail.com']['_name']"
   ]
  },
  {
   "cell_type": "code",
   "execution_count": null,
   "id": "66e20142",
   "metadata": {},
   "outputs": [],
   "source": []
  }
 ],
 "metadata": {
  "kernelspec": {
   "display_name": "Python 3",
   "language": "python",
   "name": "python3"
  },
  "language_info": {
   "codemirror_mode": {
    "name": "ipython",
    "version": 3
   },
   "file_extension": ".py",
   "mimetype": "text/x-python",
   "name": "python",
   "nbconvert_exporter": "python",
   "pygments_lexer": "ipython3",
   "version": "3.8.8"
  }
 },
 "nbformat": 4,
 "nbformat_minor": 5
}
