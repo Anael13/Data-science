{
 "cells": [
  {
   "cell_type": "code",
   "execution_count": null,
   "id": "01a4afd2",
   "metadata": {},
   "outputs": [],
   "source": [
    "# Functions: Dealing with an unknown number of arguments\n",
    "\n",
    "def display_result(winner, score, **other_info):\n",
    "    print(\"The winner was \" + winner)\n",
    "    print(\"The score was \" + score)\n",
    "    for key, value in other_info.items():\n",
    "        print(key + \": \" + value)\n",
    "\n",
    "display_result('Anael', '100', last_name =  'Mumtaz',) "
   ]
  },
  {
   "cell_type": "code",
   "execution_count": null,
   "id": "b082e658",
   "metadata": {},
   "outputs": [],
   "source": [
    "def add_numbers(num1, num2, *numbers):\n",
    "    result = num1 +num2 \n",
    "    for i in numbers:\n",
    "        result += i\n",
    "    print(result)\n",
    "\n",
    "add_numbers(50, 50, 50, 50)"
   ]
  },
  {
   "cell_type": "code",
   "execution_count": null,
   "id": "0e0251b9",
   "metadata": {},
   "outputs": [],
   "source": [
    "def minus_numbers(num1, num2, *numbers):\n",
    "    result = num1 - num2 \n",
    "    for i in numbers:\n",
    "        result -= i\n",
    "    print(result)\n",
    "\n",
    "minus_numbers(100, 100, 1000 ,100)"
   ]
  },
  {
   "cell_type": "code",
   "execution_count": null,
   "id": "b19bbb6e",
   "metadata": {},
   "outputs": [],
   "source": [
    "greeting = \"Hello from user\"\n",
    "\n",
    "def showHello():\n",
    "    greet = \"Hello from user\"\n",
    "    print(greet)\n",
    "print(greeting)\n",
    "showHello()"
   ]
  },
  {
   "cell_type": "code",
   "execution_count": null,
   "id": "257e0b43",
   "metadata": {},
   "outputs": [],
   "source": [
    "y_n = \"\"\n",
    "\n",
    "while y_n != \"n\":\n",
    "        y_n = input(\"Do you want to proceed(y/n): \")\n",
    "        print(y_n) "
   ]
  },
  {
   "cell_type": "code",
   "execution_count": 5,
   "id": "27cf1186",
   "metadata": {},
   "outputs": [
    {
     "name": "stdout",
     "output_type": "stream",
     "text": [
      "Enter your first number: 60\n",
      "Enter your second number: 10\n",
      "The total would be  70\n",
      "Do you want to add finish the program, Enter n to stop: n\n"
     ]
    }
   ],
   "source": [
    "y_n = \"\"\n",
    "\n",
    "while y_n != \"n\":\n",
    "    num1 = int(input(\"Enter your first number: \"))\n",
    "    num2 = int(input(\"Enter your second number: \"))\n",
    "    print(\"The total would be \", num1 + num2)\n",
    "    y_n = input(\"Do you want to add finish the program, Enter n to stop: \")"
   ]
  },
  {
   "cell_type": "code",
   "execution_count": 17,
   "id": "c6dc1c01",
   "metadata": {},
   "outputs": [],
   "source": [
    "customers = []"
   ]
  },
  {
   "cell_type": "code",
   "execution_count": 18,
   "id": "00761972",
   "metadata": {},
   "outputs": [
    {
     "name": "stdout",
     "output_type": "stream",
     "text": [
      "Enter your name: Ali\n",
      "Enter your email: ali123@gmail.com\n",
      "Enter your number: 022222222\n",
      "Enter your address: North nazimabad\n",
      "Enter your gender: male\n",
      "Enter your country: Pakistan\n",
      "Enter your age: 15\n",
      "DO you want to add more customer, if not press q: y\n",
      "Enter your name: Umer\n",
      "Enter your email: umer44@gmail.com\n",
      "Enter your number: 033334555\n",
      "Enter your address: Sadarr\n",
      "Enter your gender: Male\n",
      "Enter your country: Pakistan\n",
      "Enter your age: 20\n",
      "DO you want to add more customer, if not press q: q\n"
     ]
    }
   ],
   "source": [
    "\n",
    "q = \"\"\n",
    "\n",
    "while q != \"q\":\n",
    "    name = input(\"Enter your name: \")\n",
    "    email = input(\"Enter your email: \")\n",
    "    number = input(\"Enter your number: \")\n",
    "    address = input(\"Enter your address: \")\n",
    "    gender = input(\"Enter your gender: \")\n",
    "    country = input(\"Enter your country: \")\n",
    "    age = input(\"Enter your age: \")\n",
    "    \n",
    "    cust = {}\n",
    "    \n",
    "    cust['user_name'] = name\n",
    "    cust['user_email'] = email\n",
    "    cust['user_number'] = number\n",
    "    cust['user_address'] = address\n",
    "    cust['user_gender'] = gender\n",
    "    cust['user_country'] = country\n",
    "    cust['user_age'] = age\n",
    "    \n",
    "    customers.append(cust)\n",
    "    \n",
    "    q = input(\"DO you want to add more customer, if not press q: \")"
   ]
  },
  {
   "cell_type": "code",
   "execution_count": 25,
   "id": "e20edeb5",
   "metadata": {},
   "outputs": [
    {
     "data": {
      "text/plain": [
       "'Umer'"
      ]
     },
     "execution_count": 25,
     "metadata": {},
     "output_type": "execute_result"
    }
   ],
   "source": [
    "customers"
   ]
  }
 ],
 "metadata": {
  "kernelspec": {
   "display_name": "Python 3",
   "language": "python",
   "name": "python3"
  },
  "language_info": {
   "codemirror_mode": {
    "name": "ipython",
    "version": 3
   },
   "file_extension": ".py",
   "mimetype": "text/x-python",
   "name": "python",
   "nbconvert_exporter": "python",
   "pygments_lexer": "ipython3",
   "version": "3.8.8"
  }
 },
 "nbformat": 4,
 "nbformat_minor": 5
}
