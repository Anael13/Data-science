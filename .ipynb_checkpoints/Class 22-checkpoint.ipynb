{
 "cells": [
  {
   "cell_type": "code",
   "execution_count": 31,
   "id": "4bdb739c",
   "metadata": {},
   "outputs": [],
   "source": [
    "import pandas as pd\n",
    "import numpy as np\n",
    "import requests as rq\n",
    "from bs4 import BeautifulSoup as bs"
   ]
  },
  {
   "cell_type": "code",
   "execution_count": 32,
   "id": "b47cab93",
   "metadata": {
    "collapsed": true
   },
   "outputs": [
    {
     "name": "stdout",
     "output_type": "stream",
     "text": [
      "[{'id': '10.1371/journal.pbio.3000094'}, {'id': '10.1371/journal.pgen.0020154'}, {'id': '10.1371/journal.pone.0020511'}, {'id': '10.1371/journal.pone.0000490'}, {'id': '10.1371/journal.pone.0070067'}, {'id': '10.1371/journal.pone.0178590'}, {'id': '10.1371/journal.pone.0069742'}, {'id': '10.1371/journal.pone.0040276'}, {'id': '10.1371/journal.pone.0076775'}, {'id': '10.1371/journal.pone.0183733'}, {'id': '10.1371/journal.pone.0117328'}, {'id': '10.1371/journal.pgen.0020134'}, {'id': '10.1371/journal.pone.0104441'}, {'id': '10.1371/journal.pgen.1000178'}, {'id': '10.1371/journal.pgen.1002684'}, {'id': '10.1371/journal.pone.0019943'}, {'id': '10.1371/journal.pone.0010519'}, {'id': '10.1371/journal.pone.0034620'}, {'id': '10.1371/journal.pone.0169639'}, {'id': '10.1371/journal.pone.0097336'}, {'id': '10.1371/journal.pone.0007576'}, {'id': '10.1371/journal.pone.0013142'}, {'id': '10.1371/journal.pone.0165724'}, {'id': '10.1371/journal.pgen.1008314'}, {'id': '10.1371/journal.pone.0040569'}, {'id': '10.1371/journal.pone.0166829'}, {'id': '10.1371/journal.ppat.0030026'}, {'id': '10.1371/journal.pone.0105678'}, {'id': '10.1371/journal.pgen.1002086'}, {'id': '10.1371/journal.pone.0086451'}, {'id': '10.1371/journal.pone.0006890'}, {'id': '10.1371/journal.pone.0031730'}, {'id': '10.1371/journal.pone.0003209'}, {'id': '10.1371/journal.pcbi.1000184'}, {'id': '10.1371/journal.pgen.1002339'}, {'id': '10.1371/journal.pbio.1000356'}, {'id': '10.1371/journal.pone.0021883'}, {'id': '10.1371/journal.pone.0034016'}, {'id': '10.1371/journal.pgen.1006861'}, {'id': '10.1371/journal.pgen.0030054'}, {'id': '10.1371/journal.pgen.1005194'}, {'id': '10.1371/journal.pone.0065740'}, {'id': '10.1371/journal.pone.0025430'}, {'id': '10.1371/journal.pone.0010248'}, {'id': '10.1371/journal.pone.0072752'}, {'id': '10.1371/journal.pbio.0040170'}, {'id': '10.1371/journal.pone.0065171'}, {'id': '10.1371/journal.pone.0128101'}, {'id': '10.1371/journal.pone.0133017'}, {'id': '10.1371/journal.pbio.0030235'}, {'id': '10.1371/journal.pone.0029022'}, {'id': '10.1371/journal.pgen.1003055'}, {'id': '10.1371/journal.pone.0027822'}, {'id': '10.1371/journal.pone.0003009'}, {'id': '10.1371/journal.pbio.0020271'}, {'id': '10.1371/journal.pone.0010581'}, {'id': '10.1371/journal.pgen.1007838'}, {'id': '10.1371/journal.pgen.1000265'}, {'id': '10.1371/journal.pone.0015448'}, {'id': '10.1371/journal.ppat.1001234'}, {'id': '10.1371/journal.pone.0180135'}, {'id': '10.1371/journal.pone.0011701'}, {'id': '10.1371/journal.ppat.1004692'}, {'id': '10.1371/journal.pone.0231114'}, {'id': '10.1371/journal.ppat.0030041'}, {'id': '10.1371/journal.pgen.1000797'}, {'id': '10.1371/journal.pbio.1000552'}, {'id': '10.1371/journal.pgen.1006635'}, {'id': '10.1371/journal.pgen.1009225'}, {'id': '10.1371/journal.pone.0004753'}, {'id': '10.1371/journal.pgen.1006295'}, {'id': '10.1371/journal.ppat.1004507'}, {'id': '10.1371/journal.pone.0007618'}, {'id': '10.1371/journal.pgen.0030016'}, {'id': '10.1371/journal.pone.0001178'}, {'id': '10.1371/journal.pone.0020612'}, {'id': '10.1371/journal.pgen.1003081'}, {'id': '10.1371/journal.pgen.1001246'}, {'id': '10.1371/journal.pgen.1005589'}, {'id': '10.1371/journal.pbio.3000041'}, {'id': '10.1371/journal.pone.0031835'}, {'id': '10.1371/journal.pone.0176228'}, {'id': '10.1371/journal.pone.0005141'}, {'id': '10.1371/journal.pone.0014049'}, {'id': '10.1371/journal.pone.0097332'}, {'id': '10.1371/journal.pone.0147903'}, {'id': '10.1371/journal.ppat.1006277'}, {'id': '10.1371/journal.pone.0101631'}, {'id': '10.1371/journal.pone.0040300'}, {'id': '10.1371/journal.pone.0028985'}, {'id': '10.1371/journal.pgen.0010063'}, {'id': '10.1371/journal.pone.0028508'}, {'id': '10.1371/journal.pone.0088413'}, {'id': '10.1371/journal.pgen.1000302'}, {'id': '10.1371/journal.pgen.0020178'}, {'id': '10.1371/journal.pone.0071686'}, {'id': '10.1371/journal.pbio.1001420'}, {'id': '10.1371/journal.pbio.2000532'}, {'id': '10.1371/journal.pgen.1006297'}, {'id': '10.1371/journal.pgen.1003061'}]\n"
     ]
    }
   ],
   "source": [
    "url = \"http://api.plos.org/search?q=title:%22Drosophila%22%20and%20body:%22RNA%22&fl=id&start=100&rows=100\"\n",
    "data = rq.get(url)\n",
    "json_data = data.json()\n",
    "print(json_data['response'][\"docs\"])\n",
    "data_frame = pd.DataFrame(json_data['response'][\"docs\"])"
   ]
  },
  {
   "cell_type": "code",
   "execution_count": 33,
   "id": "f9163ef1",
   "metadata": {
    "scrolled": true
   },
   "outputs": [
    {
     "data": {
      "text/html": [
       "<div>\n",
       "<style scoped>\n",
       "    .dataframe tbody tr th:only-of-type {\n",
       "        vertical-align: middle;\n",
       "    }\n",
       "\n",
       "    .dataframe tbody tr th {\n",
       "        vertical-align: top;\n",
       "    }\n",
       "\n",
       "    .dataframe thead th {\n",
       "        text-align: right;\n",
       "    }\n",
       "</style>\n",
       "<table border=\"1\" class=\"dataframe\">\n",
       "  <thead>\n",
       "    <tr style=\"text-align: right;\">\n",
       "      <th></th>\n",
       "      <th>id</th>\n",
       "    </tr>\n",
       "  </thead>\n",
       "  <tbody>\n",
       "    <tr>\n",
       "      <th>0</th>\n",
       "      <td>10.1371/journal.pbio.3000094</td>\n",
       "    </tr>\n",
       "    <tr>\n",
       "      <th>1</th>\n",
       "      <td>10.1371/journal.pgen.0020154</td>\n",
       "    </tr>\n",
       "    <tr>\n",
       "      <th>2</th>\n",
       "      <td>10.1371/journal.pone.0020511</td>\n",
       "    </tr>\n",
       "    <tr>\n",
       "      <th>3</th>\n",
       "      <td>10.1371/journal.pone.0000490</td>\n",
       "    </tr>\n",
       "    <tr>\n",
       "      <th>4</th>\n",
       "      <td>10.1371/journal.pone.0070067</td>\n",
       "    </tr>\n",
       "    <tr>\n",
       "      <th>...</th>\n",
       "      <td>...</td>\n",
       "    </tr>\n",
       "    <tr>\n",
       "      <th>95</th>\n",
       "      <td>10.1371/journal.pone.0071686</td>\n",
       "    </tr>\n",
       "    <tr>\n",
       "      <th>96</th>\n",
       "      <td>10.1371/journal.pbio.1001420</td>\n",
       "    </tr>\n",
       "    <tr>\n",
       "      <th>97</th>\n",
       "      <td>10.1371/journal.pbio.2000532</td>\n",
       "    </tr>\n",
       "    <tr>\n",
       "      <th>98</th>\n",
       "      <td>10.1371/journal.pgen.1006297</td>\n",
       "    </tr>\n",
       "    <tr>\n",
       "      <th>99</th>\n",
       "      <td>10.1371/journal.pgen.1003061</td>\n",
       "    </tr>\n",
       "  </tbody>\n",
       "</table>\n",
       "<p>100 rows × 1 columns</p>\n",
       "</div>"
      ],
      "text/plain": [
       "                              id\n",
       "0   10.1371/journal.pbio.3000094\n",
       "1   10.1371/journal.pgen.0020154\n",
       "2   10.1371/journal.pone.0020511\n",
       "3   10.1371/journal.pone.0000490\n",
       "4   10.1371/journal.pone.0070067\n",
       "..                           ...\n",
       "95  10.1371/journal.pone.0071686\n",
       "96  10.1371/journal.pbio.1001420\n",
       "97  10.1371/journal.pbio.2000532\n",
       "98  10.1371/journal.pgen.1006297\n",
       "99  10.1371/journal.pgen.1003061\n",
       "\n",
       "[100 rows x 1 columns]"
      ]
     },
     "execution_count": 33,
     "metadata": {},
     "output_type": "execute_result"
    }
   ],
   "source": [
    "data_frame"
   ]
  },
  {
   "cell_type": "code",
   "execution_count": 115,
   "id": "ad3b246d",
   "metadata": {},
   "outputs": [],
   "source": [
    "url = \"https://data.cityofchicago.org/resource/ydr8-5enu.json\"\n",
    "data = rq.get(url)\n",
    "json_data = data.json()\n",
    "data_frame = pd.DataFrame(json_data)"
   ]
  },
  {
   "cell_type": "code",
   "execution_count": 116,
   "id": "989d2e86",
   "metadata": {},
   "outputs": [],
   "source": [
    "clean_data = data_frame.dropna(axis=1)"
   ]
  },
  {
   "cell_type": "code",
   "execution_count": 117,
   "id": "89fec540",
   "metadata": {},
   "outputs": [],
   "source": [
    "all_review_type = clean_data['review_type'].unique()\n",
    "all_permit_type = clean_data['permit_type'].unique()\n",
    "all_street_number = clean_data['street_number'].unique()\n",
    "all_work_description = clean_data['work_description'].unique()\n",
    "all_building_fee_paid = clean_data['building_fee_paid'].unique()"
   ]
  },
  {
   "cell_type": "code",
   "execution_count": 118,
   "id": "fc6da29e",
   "metadata": {},
   "outputs": [],
   "source": [
    "for i in all_permit:\n",
    "    data = clean_data[clean_data['review_type'] == i]\n",
    "    data.to_csv(i.split('/')[0]+'.csv')"
   ]
  },
  {
   "cell_type": "code",
   "execution_count": 119,
   "id": "3c0aff6b",
   "metadata": {},
   "outputs": [],
   "source": [
    "for i in all_permit_type:\n",
    "    data = clean_data[clean_data['permit_type'] == i]\n",
    "    data.to_csv(i.split('/')[0]+'.csv')"
   ]
  },
  {
   "cell_type": "code",
   "execution_count": 120,
   "id": "6d915617",
   "metadata": {},
   "outputs": [],
   "source": [
    "for i in all_street_number:\n",
    "    data = clean_data[clean_data['street_number'] == i]\n",
    "    data.to_csv(i.split('/')[0]+'.csv')"
   ]
  }
 ],
 "metadata": {
  "kernelspec": {
   "display_name": "Python 3",
   "language": "python",
   "name": "python3"
  },
  "language_info": {
   "codemirror_mode": {
    "name": "ipython",
    "version": 3
   },
   "file_extension": ".py",
   "mimetype": "text/x-python",
   "name": "python",
   "nbconvert_exporter": "python",
   "pygments_lexer": "ipython3",
   "version": "3.8.8"
  }
 },
 "nbformat": 4,
 "nbformat_minor": 5
}
