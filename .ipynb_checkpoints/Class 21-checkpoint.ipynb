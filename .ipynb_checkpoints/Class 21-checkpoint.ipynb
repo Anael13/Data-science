{
 "cells": [
  {
   "cell_type": "code",
   "execution_count": 131,
   "id": "62ee62d9",
   "metadata": {},
   "outputs": [],
   "source": [
    "import pandas as pd\n",
    "import requests as rq\n",
    "from bs4 import BeautifulSoup as bs\n",
    "qoutes = []"
   ]
  },
  {
   "cell_type": "code",
   "execution_count": 132,
   "id": "7911281f",
   "metadata": {},
   "outputs": [],
   "source": [
    "for j in range(1, 46):\n",
    "    url = 'https://www.passiton.com/inspirational-quotes?page='\n",
    "    data = rq.get(url+str(j))\n",
    "    soup = bs(data.content, 'html5lib')\n",
    "    div = soup.find('div', attrs = {'id': \"all_quotes\"})\n",
    "    divs = div.findAll('div', attrs={\"class\": \"col-6 col-lg-3 text-center margin-30px-bottom sm-margin-30px-top\"})\n",
    "    for i in divs:\n",
    "        temp_data = {}\n",
    "        temp_data[\"Name\"] = i.h5.text\n",
    "        temp_data[\"Url\"] = i.a[\"href\"]\n",
    "        temp_data[\"Image\"] = i.img[\"src\"]\n",
    "        temp_data[\"Quote\"] = i.img[\"alt\"].split(\".\")[0]\n",
    "        qoutes.append(temp_data)\n",
    "final_data = pd.DataFrame(qoutes)\n",
    "final_data.to_excel(\"Web Scarpping.xlsx\")"
   ]
  }
 ],
 "metadata": {
  "kernelspec": {
   "display_name": "Python 3",
   "language": "python",
   "name": "python3"
  },
  "language_info": {
   "codemirror_mode": {
    "name": "ipython",
    "version": 3
   },
   "file_extension": ".py",
   "mimetype": "text/x-python",
   "name": "python",
   "nbconvert_exporter": "python",
   "pygments_lexer": "ipython3",
   "version": "3.8.8"
  }
 },
 "nbformat": 4,
 "nbformat_minor": 5
}
