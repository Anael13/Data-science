{
 "cells": [
  {
   "cell_type": "code",
   "execution_count": 5,
   "id": "b94a7d08",
   "metadata": {},
   "outputs": [
    {
     "name": "stdout",
     "output_type": "stream",
     "text": [
      "Please enter your age: 18\n",
      "Wait one more year to drive\n"
     ]
    }
   ],
   "source": [
    "age = int(input(\"Please enter your age: \"))\n",
    "\n",
    "if age < 18:\n",
    "    print(\"You are not allowed to drive\")\n",
    "elif age > 18:\n",
    "    print(\"You can drive!\")\n",
    "else:\n",
    "    print(\"Wait one more year to drive\")"
   ]
  },
  {
   "cell_type": "code",
   "execution_count": 3,
   "id": "f84a7cf3",
   "metadata": {},
   "outputs": [
    {
     "name": "stdout",
     "output_type": "stream",
     "text": [
      "Pass\n"
     ]
    }
   ],
   "source": [
    "a = 20\n",
    "\n",
    "if a == 18:\n",
    "    print(\"Password is correct\")\n",
    "else:\n",
    "    print(\"Pass\")\n",
    "  "
   ]
  },
  {
   "cell_type": "code",
   "execution_count": 2,
   "id": "281ebc9f",
   "metadata": {},
   "outputs": [
    {
     "name": "stdout",
     "output_type": "stream",
     "text": [
      "Number2 is bigger than number1\n"
     ]
    }
   ],
   "source": [
    "num1 = 1\n",
    "num2 = 15 \n",
    "\n",
    "if num2 > num1:\n",
    "    print(\"Number2 is bigger than number1\")\n",
    "else:\n",
    "    print(\"Number2 is not bigger\")\n"
   ]
  },
  {
   "cell_type": "code",
   "execution_count": 6,
   "id": "c7ce0130",
   "metadata": {},
   "outputs": [
    {
     "name": "stdout",
     "output_type": "stream",
     "text": [
      "Number2 is not equal to number1\n"
     ]
    }
   ],
   "source": [
    "num1 = 199\n",
    "num2 = 159 \n",
    "\n",
    "if num2 != num1:\n",
    "    print(\"Number2 is not equal to number1\")\n",
    "else:\n",
    "    print(\"Number2 is equal to number1\")\n"
   ]
  },
  {
   "cell_type": "code",
   "execution_count": 7,
   "id": "6be19a99",
   "metadata": {},
   "outputs": [
    {
     "name": "stdout",
     "output_type": "stream",
     "text": [
      "Number2 is bigger or equal to number1\n"
     ]
    }
   ],
   "source": [
    "num1 = 154\n",
    "num2 = 1577\n",
    "\n",
    "if num2 >= num1:\n",
    "    print(\"Number2 is bigger or equal to number1\")\n",
    "else:\n",
    "    print(\"Number2 is not bigger or equal\")\n"
   ]
  },
  {
   "cell_type": "code",
   "execution_count": null,
   "id": "1d8f5f4e",
   "metadata": {},
   "outputs": [],
   "source": [
    "weight = 300\n",
    "time = 6\n",
    "height = 5.8\n",
    "if (weight >= 300) and (time <= 6) and (height>=5.8):\n",
    "    print(\"Recruit Him!\")\n",
    "                                            "
   ]
  },
  {
   "cell_type": "code",
   "execution_count": null,
   "id": "ad0d617b",
   "metadata": {},
   "outputs": [],
   "source": [
    "a= 43\n",
    "b = 66\n",
    "\n",
    "if a ==b:\n",
    "    elif a < b:\n",
    "        if a!= b:\n",
    "            print(\"hello\")\n",
    "            "
   ]
  },
  {
   "cell_type": "code",
   "execution_count": null,
   "id": "1589f147",
   "metadata": {},
   "outputs": [],
   "source": []
  },
  {
   "cell_type": "code",
   "execution_count": null,
   "id": "8df646b8",
   "metadata": {},
   "outputs": [],
   "source": []
  }
 ],
 "metadata": {
  "kernelspec": {
   "display_name": "Python 3",
   "language": "python",
   "name": "python3"
  },
  "language_info": {
   "codemirror_mode": {
    "name": "ipython",
    "version": 3
   },
   "file_extension": ".py",
   "mimetype": "text/x-python",
   "name": "python",
   "nbconvert_exporter": "python",
   "pygments_lexer": "ipython3",
   "version": "3.8.8"
  }
 },
 "nbformat": 4,
 "nbformat_minor": 5
}
