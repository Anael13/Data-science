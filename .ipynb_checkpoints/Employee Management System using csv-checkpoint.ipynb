{
 "cells": [
  {
   "cell_type": "code",
   "execution_count": 16,
   "id": "594fa24e",
   "metadata": {},
   "outputs": [],
   "source": [
    "employees = {}\n",
    "\n",
    "import csv"
   ]
  },
  {
   "cell_type": "code",
   "execution_count": 20,
   "id": "dd1e99cc",
   "metadata": {},
   "outputs": [],
   "source": [
    "with open(\"employees.csv\", \"a\", newline=\"\") as f:\n",
    "    data_handler = csv.writer(f, delimiter=\",\")\n",
    "    data_handler.writerow([\"ID\", \"Name\", \"Type\",\"Age\", \"Status\", \"Kids\", \"Years\"])\n",
    "\n",
    "def Employee_Creation():\n",
    "    employee_id = input('Enter employee id: ')\n",
    "    employee_name = input('Enter employee name: ')\n",
    "    employee_type = input('Enter employee type: ')\n",
    "    employee_age = input('Enter employee age: ')\n",
    "    employee_status = input('Enter employee status: ')\n",
    "    employee_kids = input('Enter employee kids: ')\n",
    "    employee_years = input('Enter employee years: ')\n",
    "  \n",
    "    employee_data = {}\n",
    "    employee_data['id'] = employee_id.title()\n",
    "    employee_data['name'] = employee_name.title()\n",
    "    employee_data['type'] = employee_type.title()\n",
    "    employee_data['age'] = employee_age.title()\n",
    "    employee_data['status'] = employee_status.title()\n",
    "    employee_data['kids'] = employee_kids.title()\n",
    "    employee_data['years'] = employee_years.title()\n",
    "    employee[employee_id]= employee_data\n",
    "    print(employee)\n",
    "    with open(\"employees.csv\", \"a\", newline=\"\") as f:\n",
    "        data_handler = csv.writer(f, delimiter=\",\")\n",
    "        data_handler.writerow([employee_id, employee_name, employee_type, employee_age, employee_status, employee_kids, employee_years])"
   ]
  },
  {
   "cell_type": "code",
   "execution_count": 3,
   "id": "624f14a1",
   "metadata": {},
   "outputs": [],
   "source": [
    "def Employee_Updation():\n",
    "    update_data = input('Enter Employee id: ')\n",
    "        employee_id = update_data\n",
    "        employee_name = input('Enter employee name: ')\n",
    "        employee_type = input('Enter employee type: ')\n",
    "        employee_age = input('Enter employee age: ')\n",
    "        employee_status = input('Enter employee status: ')\n",
    "        employee_kids = input('Enter employee kids: ')\n",
    "        employee_years = input('Enter employee years: ')\n",
    "        employee[employee_id]['id']= employee_id.title()\n",
    "        employee[employee_id]['name']= employee_name.title()\n",
    "        employee[employee_id]['type']= employee_type.title()\n",
    "        employee[employee_id]['age']= employee_age.title()\n",
    "        employee[employee_id]['status']= employee_status.title()\n",
    "        employee[employee_id]['kids']= employee_kids.title()\n",
    "        employee[employee_id]['years']= employee_years.title()\n",
    "        \n"
   ]
  },
  {
   "cell_type": "code",
   "execution_count": 4,
   "id": "262a21bc",
   "metadata": {},
   "outputs": [],
   "source": [
    "def Employee_Read():\n",
    "    print('Press 1 to search using the age of employees')\n",
    "    print('Press 2 to search using an employee_id.')\n",
    "    print('Press 3 to search using the status.')\n",
    "    print('Press 4 to search using the type.')\n",
    "    user = input('Press any key: ')\n",
    "    if user  == '1':\n",
    "        user_search = input('Please search: ')\n",
    "        for i in employee:\n",
    "            if employee[i]['age'] == user_search.title():\n",
    "                print(employee[i])\n",
    "    elif user  == '2':\n",
    "        user_search = input('Please search: ')\n",
    "        for i in employee:\n",
    "            if dict_employee[i]['id'] == user_search.title():\n",
    "                print(employee[i])\n",
    "    elif user  == '3':\n",
    "        user_search = input('Please search: ')\n",
    "        for i in employee:\n",
    "            if employee[i]['status'] == user_search.title():\n",
    "                print(employee[i])\n",
    "    elif user  == '4':\n",
    "        user_search = input('Please search: ')\n",
    "        for i in dict_employee:\n",
    "            if dict_employee[i]['type'] == user_search.title():\n",
    "                print(employee[i])\n"
   ]
  },
  {
   "cell_type": "code",
   "execution_count": 23,
   "id": "cb165e4a",
   "metadata": {},
   "outputs": [
    {
     "name": "stdout",
     "output_type": "stream",
     "text": [
      "Press 1 to enter a new employee record: \n",
      "Press 2 to update an existing record.\n",
      "Press 3 to search from the employee records.\n",
      "Press q to exit the program.\n",
      "Choose any one: 1\n",
      "Enter employee id: 1\n",
      "Enter employee name: Anael\n",
      "Enter employee type: Boss\n",
      "Enter employee age: 40\n",
      "Enter employee status: mariied\n",
      "Enter employee kids: 0\n",
      "Enter employee years: 5\n",
      "{'1': {'id': '1', 'name': 'Anael', 'type': 'Boss', 'age': '40', 'status': 'Mariied', 'kids': '0', 'years': '5'}, '2': {'id': '2', 'name': 'Affan', 'type': 'Manager', 'age': '30', 'status': 'Single', 'kids': '0', 'years': '5'}}\n",
      "Press 1 to enter a new employee record: \n",
      "Press 2 to update an existing record.\n",
      "Press 3 to search from the employee records.\n",
      "Press q to exit the program.\n",
      "Choose any one: q\n"
     ]
    }
   ],
   "source": [
    "user_input = \"\"\n",
    "\n",
    "while user_input != \"q\":\n",
    "    print(\"Press 1 to enter a new employee record: \")\n",
    "    print(\"Press 2 to update an existing record.\")\n",
    "    print(\"Press 3 to search from the employee records.\")\n",
    "    print(\"Press q to exit the program.\")\n",
    "    user_input = input(\"Choose any one: \")\n",
    "    if user_input == \"1\":\n",
    "        Employee_Creation()\n",
    "    if user_input == \"2\":\n",
    "        Employee_Updation()\n",
    "    if user_input == \"3\":\n",
    "        Employee_Read()"
   ]
  }
 ],
 "metadata": {
  "kernelspec": {
   "display_name": "Python 3",
   "language": "python",
   "name": "python3"
  },
  "language_info": {
   "codemirror_mode": {
    "name": "ipython",
    "version": 3
   },
   "file_extension": ".py",
   "mimetype": "text/x-python",
   "name": "python",
   "nbconvert_exporter": "python",
   "pygments_lexer": "ipython3",
   "version": "3.8.8"
  }
 },
 "nbformat": 4,
 "nbformat_minor": 5
}
