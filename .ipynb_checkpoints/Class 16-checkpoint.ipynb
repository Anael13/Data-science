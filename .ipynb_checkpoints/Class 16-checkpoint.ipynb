{
 "cells": [
  {
   "cell_type": "code",
   "execution_count": 20,
   "id": "2db572bb",
   "metadata": {},
   "outputs": [],
   "source": [
    "import pandas as pd\n",
    "import numpy as np"
   ]
  },
  {
   "cell_type": "code",
   "execution_count": 13,
   "id": "2b8436f7",
   "metadata": {},
   "outputs": [],
   "source": [
    "obj = pd.Series([1, 2,3 ,4, 5, 6, 7,8 ,9, 10], index=[10, 9, 8, 7, 6, 5, 4, 3 ,2,1])"
   ]
  },
  {
   "cell_type": "code",
   "execution_count": 10,
   "id": "84e15274",
   "metadata": {},
   "outputs": [
    {
     "data": {
      "text/plain": [
       "array([ 1,  2,  3,  4,  5,  6,  7,  8,  9, 10], dtype=int64)"
      ]
     },
     "execution_count": 10,
     "metadata": {},
     "output_type": "execute_result"
    }
   ],
   "source": [
    "obj.values"
   ]
  },
  {
   "cell_type": "code",
   "execution_count": 14,
   "id": "a7f99486",
   "metadata": {},
   "outputs": [
    {
     "data": {
      "text/plain": [
       "Int64Index([10, 9, 8, 7, 6, 5, 4, 3, 2, 1], dtype='int64')"
      ]
     },
     "execution_count": 14,
     "metadata": {},
     "output_type": "execute_result"
    }
   ],
   "source": [
    "obj.index"
   ]
  },
  {
   "cell_type": "code",
   "execution_count": 18,
   "id": "876c9996",
   "metadata": {},
   "outputs": [
    {
     "data": {
      "text/plain": [
       "9    2\n",
       "dtype: int64"
      ]
     },
     "execution_count": 18,
     "metadata": {},
     "output_type": "execute_result"
    }
   ],
   "source": [
    "obj[[1, 2]]\n",
    "obj[0:4]"
   ]
  },
  {
   "cell_type": "code",
   "execution_count": null,
   "id": "78268006",
   "metadata": {},
   "outputs": [],
   "source": [
    "obj[obj == 2]"
   ]
  },
  {
   "cell_type": "code",
   "execution_count": 19,
   "id": "10dc691e",
   "metadata": {
    "scrolled": true
   },
   "outputs": [
    {
     "data": {
      "text/plain": [
       "10     2\n",
       "9      4\n",
       "8      6\n",
       "7      8\n",
       "6     10\n",
       "5     12\n",
       "4     14\n",
       "3     16\n",
       "2     18\n",
       "1     20\n",
       "dtype: int64"
      ]
     },
     "execution_count": 19,
     "metadata": {},
     "output_type": "execute_result"
    }
   ],
   "source": [
    "obj * 2"
   ]
  },
  {
   "cell_type": "code",
   "execution_count": 22,
   "id": "e68a40cd",
   "metadata": {
    "scrolled": false
   },
   "outputs": [
    {
     "data": {
      "text/plain": [
       "1"
      ]
     },
     "execution_count": 22,
     "metadata": {},
     "output_type": "execute_result"
    }
   ],
   "source": [
    "10 in obj\n",
    "obj[10]"
   ]
  },
  {
   "cell_type": "code",
   "execution_count": 30,
   "id": "14378749",
   "metadata": {},
   "outputs": [],
   "source": [
    "obj[10] = 1"
   ]
  },
  {
   "cell_type": "code",
   "execution_count": null,
   "id": "349221e4",
   "metadata": {},
   "outputs": [],
   "source": [
    "sdata = "
   ]
  },
  {
   "cell_type": "code",
   "execution_count": null,
   "id": "c7d50eb1",
   "metadata": {},
   "outputs": [],
   "source": [
    "obj_dataFrame = pd.DataFrame([[1,2,3],[4,5,6]])"
   ]
  }
 ],
 "metadata": {
  "kernelspec": {
   "display_name": "Python 3",
   "language": "python",
   "name": "python3"
  },
  "language_info": {
   "codemirror_mode": {
    "name": "ipython",
    "version": 3
   },
   "file_extension": ".py",
   "mimetype": "text/x-python",
   "name": "python",
   "nbconvert_exporter": "python",
   "pygments_lexer": "ipython3",
   "version": "3.8.8"
  }
 },
 "nbformat": 4,
 "nbformat_minor": 5
}
