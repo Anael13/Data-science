{
 "cells": [
  {
   "cell_type": "code",
   "execution_count": 25,
   "id": "e492bb7a",
   "metadata": {},
   "outputs": [],
   "source": [
    "class Patient:\n",
    "    def __init__(self, first_name, last_name, age, CNIC, phone, disease, treatment, doctor_assigned):\n",
    "        self.firstname = first_name\n",
    "        self.lastname = last_name\n",
    "        self.age = age\n",
    "        self.cinic = CNIC\n",
    "        self.phone = phone\n",
    "        self.disease = disease\n",
    "        self.treatment = treatment\n",
    "        self.doctor = doctor_assigned\n",
    "    def showWhole(self):\n",
    "        print(\"First name is\", self.firstname)\n",
    "        print(\"last name is\", self.lastname)\n",
    "        print(\"Age is\", self.age)\n",
    "        print(\"Cinic is\", self.cinic)\n",
    "        print(\"Phone is\", self.phone)\n",
    "        print(\"Disease is\", self.disease)\n",
    "        print(\"Treatment is\", self.treatment)\n",
    "        print(\"Doctor is\", self.doctor)\n",
    "    def showFirst_name(self):\n",
    "        print(\"First name is\", self.firstname)\n",
    "    def showLast_name(self):\n",
    "        print(\"last name is\", self.lastname)\n",
    "    def showAge(self):\n",
    "        print(\"Age is\", self.age)\n",
    "    def showCinic(self):\n",
    "        print(\"Cinic is\", self.cinic)\n",
    "    def showPhone(self):\n",
    "        print(\"Cinic is\", self.cinic)\n",
    "    def showDisease(self):\n",
    "        print(\"Disease is\", self.disease)\n",
    "    def showTreatment(self):\n",
    "        print(\"Treatment is\", self.treatment)\n",
    "    def showDoctor(self):\n",
    "        print(\"Doctor is\", self.doctor)"
   ]
  },
  {
   "cell_type": "code",
   "execution_count": 41,
   "id": "f797106d",
   "metadata": {},
   "outputs": [
    {
     "name": "stdout",
     "output_type": "stream",
     "text": [
      "First name is Umair\n",
      "last name is Shehzad\n",
      "Age is 24\n",
      "Cinic is 54354343\n",
      "Phone is 033355343\n",
      "Disease is Cancer\n",
      "Treatment is Taking our heart\n",
      "Doctor is Anael(failled)\n",
      "First name is Umair\n",
      "last name is Shehzad\n",
      "Age is 24\n",
      "Cinic is 54354343\n",
      "Cinic is 54354343\n",
      "Disease is Cancer\n",
      "Treatment is Taking our heart\n",
      "Doctor is Anael(failled)\n",
      "Ammar\n"
     ]
    }
   ],
   "source": [
    "patient_1 = Patient('Umair', 'Shehzad', '24', '54354343', '033355343', 'Cancer', 'Taking our heart', 'Anael(failled)')\n",
    "patient_1.showWhole()\n",
    "patient_1.showFirst_name()\n",
    "patient_1.showLast_name()\n",
    "patient_1.showAge()\n",
    "patient_1.showCinic()\n",
    "patient_1.showPhone()\n",
    "patient_1.showDisease()\n",
    "patient_1.showTreatment()\n",
    "patient_1.showDoctor()\n",
    "patient_1.firstname = \"Ammar\"\n",
    "print(patient_1.firstname)"
   ]
  },
  {
   "cell_type": "code",
   "execution_count": 36,
   "id": "d731d429",
   "metadata": {},
   "outputs": [
    {
     "ename": "AttributeError",
     "evalue": "type object 'type' has no attribute 'patient1'",
     "output_type": "error",
     "traceback": [
      "\u001b[1;31m---------------------------------------------------------------------------\u001b[0m",
      "\u001b[1;31mAttributeError\u001b[0m                            Traceback (most recent call last)",
      "\u001b[1;32m<ipython-input-36-bffd75c048e8>\u001b[0m in \u001b[0;36m<module>\u001b[1;34m\u001b[0m\n\u001b[1;32m----> 1\u001b[1;33m \u001b[0mprint\u001b[0m\u001b[1;33m(\u001b[0m\u001b[0mtype\u001b[0m\u001b[1;33m.\u001b[0m\u001b[0mpatient1\u001b[0m\u001b[1;33m)\u001b[0m\u001b[1;33m\u001b[0m\u001b[1;33m\u001b[0m\u001b[0m\n\u001b[0m",
      "\u001b[1;31mAttributeError\u001b[0m: type object 'type' has no attribute 'patient1'"
     ]
    }
   ],
   "source": [
    "print(type.patient1)"
   ]
  }
 ],
 "metadata": {
  "kernelspec": {
   "display_name": "Python 3",
   "language": "python",
   "name": "python3"
  },
  "language_info": {
   "codemirror_mode": {
    "name": "ipython",
    "version": 3
   },
   "file_extension": ".py",
   "mimetype": "text/x-python",
   "name": "python",
   "nbconvert_exporter": "python",
   "pygments_lexer": "ipython3",
   "version": "3.8.8"
  }
 },
 "nbformat": 4,
 "nbformat_minor": 5
}
