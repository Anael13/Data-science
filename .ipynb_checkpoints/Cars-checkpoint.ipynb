{
 "cells": [
  {
   "cell_type": "code",
   "execution_count": null,
   "id": "4d197e62",
   "metadata": {},
   "outputs": [],
   "source": [
    "try:\n",
    "\n",
    "    cars = {}\n",
    "\n",
    "    #c = int(input(\"How many cars do you want to add: \"))\n",
    "\n",
    "    y_n = \"\"\n",
    "    \n",
    "    while y_n != \"n\":\n",
    "        if y_n != \"n\":\n",
    "            car_name= input(\"Enter car's name: \")\n",
    "            car_top_speed = int(input(\"Enter car's top speed: \"))\n",
    "            car = {}\n",
    "            car['name'] = car_name\n",
    "            car['top_speed'] = car_top_speed\n",
    "            cars[car_name] = car\n",
    "            y_n = input(\"Do you want to add another city(y/n): \")\n",
    "            if y_n == 'n': \n",
    "                break\n",
    "\n",
    "\n",
    "\n",
    "    race_choice1 = input(\"\\nPleass tell the first car you want to race: \")\n",
    "    race_choice2 = input(\"Pleass tell the second car you want to race: \")\n",
    "\n",
    "    if race_choice1[] > race_choice2['top_speed']:\n",
    "        print(\"A\")\n",
    "    \n",
    "\n",
    "except:\n",
    "        print(\"Please wait, we are on a maintainance break\")\n",
    "        \n",
    "    \n"
   ]
  },
  {
   "cell_type": "code",
   "execution_count": null,
   "id": "c032a9a4",
   "metadata": {},
   "outputs": [],
   "source": []
  }
 ],
 "metadata": {
  "kernelspec": {
   "display_name": "Python 3",
   "language": "python",
   "name": "python3"
  },
  "language_info": {
   "codemirror_mode": {
    "name": "ipython",
    "version": 3
   },
   "file_extension": ".py",
   "mimetype": "text/x-python",
   "name": "python",
   "nbconvert_exporter": "python",
   "pygments_lexer": "ipython3",
   "version": "3.8.8"
  }
 },
 "nbformat": 4,
 "nbformat_minor": 5
}
