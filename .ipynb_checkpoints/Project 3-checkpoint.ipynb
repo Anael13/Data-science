{
 "cells": [
  {
   "cell_type": "code",
   "execution_count": 17,
   "id": "d450aaa6",
   "metadata": {},
   "outputs": [],
   "source": [
    "employees = {}"
   ]
  },
  {
   "cell_type": "code",
   "execution_count": 10,
   "id": "7da0cd27",
   "metadata": {},
   "outputs": [],
   "source": [
    "#Function 1\n",
    "\n",
    "def emp_creation(employees):\n",
    "    user_input_c = \"\"\n",
    "    if user_input == \"1\":\n",
    "        while user_input_c != \"q\":\n",
    "            emp_id = input(\"Enter id: \") \n",
    "            emp_name = input(\"Enter name: \")\n",
    "            emp_type = input(\"Enter type: \")\n",
    "            emp_age = input(\"Enter age: \")\n",
    "            emp_status = input(\"Enter status: \")\n",
    "            emp_kids = input(\"Enter number of kids: \")\n",
    "            emp_years = input(\"Enter years of experience: \")\n",
    "            emp = {}\n",
    "            emp['id'] = emp_id\n",
    "            emp['name'] = emp_name\n",
    "            emp['type'] = emp_type\n",
    "            emp['age'] = emp_age\n",
    "            emp['status'] = emp_status\n",
    "            emp['kids'] = emp_kids\n",
    "            emp['years'] = emp_years\n",
    "            employees[emp_id] = emp\n",
    "            user_input_c = input(\"Press q to exit the program.\")"
   ]
  },
  {
   "cell_type": "code",
   "execution_count": 11,
   "id": "a8d6b057",
   "metadata": {},
   "outputs": [],
   "source": [
    "#Function 2\n",
    "\n",
    "temp_id = \"\"\n",
    "def emp_update(employees, temp_id):\n",
    "    user_input_u = \"\"\n",
    "    if emp_u == \"2\":\n",
    "        temp_id = input(\"Enter the ID through what you want to edit: \")\n",
    "        while user_input_u != \"q\":\n",
    "            employees[temp_id]['id'] = input(\"Enter id: \") \n",
    "            employees[temp_id][\"name\"] = input(\"Enter name: \")\n",
    "            employees[temp_id][\"type\"] = input(\"Enter type: \")\n",
    "            employees[temp_id][\"age\"] = input(\"Enter age: \")\n",
    "            employees[temp_id][\"status\"] = input(\"Enter status: \")\n",
    "            employees[temp_id][\"kids\"] = input(\"Enter number of kids: \")\n",
    "            employees[temp_id][\"years\"] = input(\"Enter years of experience: \")\n",
    "            user_input_u = input(\"Press q to exit the program.\")"
   ]
  },
  {
   "cell_type": "code",
   "execution_count": 12,
   "id": "be7480fd",
   "metadata": {},
   "outputs": [],
   "source": [
    "#Fuction 3\n",
    "\n",
    "def emp_read(employees):\n",
    "    user_input_r = \"\"\n",
    "    if emp_r == \"3\":\n",
    "        while user_input_r != \"q\":\n",
    "            type_search = input(\"Through which type you want to search your data: \")\n",
    "            if type_search == \"id\":\n",
    "                input_id = input('Enter the id: ')\n",
    "                print(employees[input_id])\n",
    "            if type_search == \"age\":\n",
    "                input_age = input('Enter the age: ')\n",
    "                print(employees[input_age])    \n",
    "            user_input_r = input(\"Press q to exit the program.\")"
   ]
  },
  {
   "cell_type": "code",
   "execution_count": 13,
   "id": "7101af82",
   "metadata": {},
   "outputs": [],
   "source": [
    "#Function 4\n",
    "\n",
    "def emp_delete(employees):\n",
    "    user_input_d = \"\"\n",
    "    if emp_d == \"4\":\n",
    "        while user_input_d != \"q\":\n",
    "            input_key = input('Enter the key of whatever you want to delete: ')\n",
    "            del employees[input_key]\n",
    "            user_input_d = input(\"Press q to exit the program.\")"
   ]
  },
  {
   "cell_type": "code",
   "execution_count": 21,
   "id": "e27f7f71",
   "metadata": {},
   "outputs": [
    {
     "name": "stdout",
     "output_type": "stream",
     "text": [
      "Press 1 to enter a new employee record: 1\n",
      "Enter id: 5\n",
      "Enter name: Anael\n",
      "Enter type: Manager\n",
      "Enter age: 50\n",
      "Enter status: single\n",
      "Enter number of kids: 0\n",
      "Enter years of experience: 15\n",
      "Press q to exit the program.q\n",
      "Press 2 to update an existing record.2\n",
      "Enter the ID through what you want to edit: 5\n",
      "Enter id: 10\n"
     ]
    },
    {
     "ename": "KeyError",
     "evalue": "'5'",
     "output_type": "error",
     "traceback": [
      "\u001b[1;31m---------------------------------------------------------------------------\u001b[0m",
      "\u001b[1;31mKeyError\u001b[0m                                  Traceback (most recent call last)",
      "\u001b[1;32m<ipython-input-21-39e1767cd752>\u001b[0m in \u001b[0;36m<module>\u001b[1;34m\u001b[0m\n\u001b[0;32m      7\u001b[0m     \u001b[0memp_u\u001b[0m \u001b[1;33m=\u001b[0m \u001b[0minput\u001b[0m\u001b[1;33m(\u001b[0m\u001b[1;34m\"Press 2 to update an existing record.\"\u001b[0m\u001b[1;33m)\u001b[0m\u001b[1;33m\u001b[0m\u001b[1;33m\u001b[0m\u001b[0m\n\u001b[0;32m      8\u001b[0m     \u001b[1;32mif\u001b[0m \u001b[0memp_u\u001b[0m \u001b[1;33m==\u001b[0m \u001b[1;34m\"2\"\u001b[0m\u001b[1;33m:\u001b[0m\u001b[1;33m\u001b[0m\u001b[1;33m\u001b[0m\u001b[0m\n\u001b[1;32m----> 9\u001b[1;33m         \u001b[0memp_update\u001b[0m\u001b[1;33m(\u001b[0m\u001b[0memployees\u001b[0m\u001b[1;33m,\u001b[0m \u001b[0mtemp_id\u001b[0m\u001b[1;33m)\u001b[0m\u001b[1;33m\u001b[0m\u001b[1;33m\u001b[0m\u001b[0m\n\u001b[0m\u001b[0;32m     10\u001b[0m     \u001b[0memp_r\u001b[0m \u001b[1;33m=\u001b[0m \u001b[0minput\u001b[0m\u001b[1;33m(\u001b[0m\u001b[1;34m\"Press 3 to search from the employee records.\"\u001b[0m\u001b[1;33m)\u001b[0m\u001b[1;33m\u001b[0m\u001b[1;33m\u001b[0m\u001b[0m\n\u001b[0;32m     11\u001b[0m     \u001b[1;32mif\u001b[0m \u001b[0memp_r\u001b[0m \u001b[1;33m==\u001b[0m \u001b[1;34m\"3\"\u001b[0m\u001b[1;33m:\u001b[0m\u001b[1;33m\u001b[0m\u001b[1;33m\u001b[0m\u001b[0m\n",
      "\u001b[1;32m<ipython-input-11-06c0cde839c3>\u001b[0m in \u001b[0;36memp_update\u001b[1;34m(employees, temp_id)\u001b[0m\n\u001b[0;32m      7\u001b[0m         \u001b[0mtemp_id\u001b[0m \u001b[1;33m=\u001b[0m \u001b[0minput\u001b[0m\u001b[1;33m(\u001b[0m\u001b[1;34m\"Enter the ID through what you want to edit: \"\u001b[0m\u001b[1;33m)\u001b[0m\u001b[1;33m\u001b[0m\u001b[1;33m\u001b[0m\u001b[0m\n\u001b[0;32m      8\u001b[0m         \u001b[1;32mwhile\u001b[0m \u001b[0muser_input_u\u001b[0m \u001b[1;33m!=\u001b[0m \u001b[1;34m\"q\"\u001b[0m\u001b[1;33m:\u001b[0m\u001b[1;33m\u001b[0m\u001b[1;33m\u001b[0m\u001b[0m\n\u001b[1;32m----> 9\u001b[1;33m             \u001b[0memployees\u001b[0m\u001b[1;33m[\u001b[0m\u001b[0mtemp_id\u001b[0m\u001b[1;33m]\u001b[0m\u001b[1;33m[\u001b[0m\u001b[1;34m'id'\u001b[0m\u001b[1;33m]\u001b[0m \u001b[1;33m=\u001b[0m \u001b[0minput\u001b[0m\u001b[1;33m(\u001b[0m\u001b[1;34m\"Enter id: \"\u001b[0m\u001b[1;33m)\u001b[0m\u001b[1;33m\u001b[0m\u001b[1;33m\u001b[0m\u001b[0m\n\u001b[0m\u001b[0;32m     10\u001b[0m             \u001b[0memployees\u001b[0m\u001b[1;33m[\u001b[0m\u001b[0mtemp_id\u001b[0m\u001b[1;33m]\u001b[0m\u001b[1;33m[\u001b[0m\u001b[1;34m\"name\"\u001b[0m\u001b[1;33m]\u001b[0m \u001b[1;33m=\u001b[0m \u001b[0minput\u001b[0m\u001b[1;33m(\u001b[0m\u001b[1;34m\"Enter name: \"\u001b[0m\u001b[1;33m)\u001b[0m\u001b[1;33m\u001b[0m\u001b[1;33m\u001b[0m\u001b[0m\n\u001b[0;32m     11\u001b[0m             \u001b[0memployees\u001b[0m\u001b[1;33m[\u001b[0m\u001b[0mtemp_id\u001b[0m\u001b[1;33m]\u001b[0m\u001b[1;33m[\u001b[0m\u001b[1;34m\"type\"\u001b[0m\u001b[1;33m]\u001b[0m \u001b[1;33m=\u001b[0m \u001b[0minput\u001b[0m\u001b[1;33m(\u001b[0m\u001b[1;34m\"Enter type: \"\u001b[0m\u001b[1;33m)\u001b[0m\u001b[1;33m\u001b[0m\u001b[1;33m\u001b[0m\u001b[0m\n",
      "\u001b[1;31mKeyError\u001b[0m: '5'"
     ]
    }
   ],
   "source": [
    "user_input = \"\"\n",
    "\n",
    "while user_input != \"q\":\n",
    "    emp_c = input(\"Press 1 to enter a new employee record: \")\n",
    "    if emp_c == \"1\":\n",
    "        emp_creation(employees)\n",
    "    emp_u = input(\"Press 2 to update an existing record.\")\n",
    "    if emp_u == \"2\":\n",
    "        emp_update(employees, temp_id)\n",
    "    emp_r = input(\"Press 3 to search from the employee records.\")\n",
    "    if emp_r == \"3\":\n",
    "        emp_read(employees)\n",
    "    emp_d = input(\"Press 4 to remove a record.\")\n",
    "    if emp_d == \"4\":\n",
    "        emp_delete(employees)\n",
    "    user_input = input(\"Press q to exit the program.\")"
   ]
  },
  {
   "cell_type": "code",
   "execution_count": 20,
   "id": "fa2e4ba3",
   "metadata": {},
   "outputs": [
    {
     "data": {
      "text/plain": [
       "{}"
      ]
     },
     "execution_count": 20,
     "metadata": {},
     "output_type": "execute_result"
    }
   ],
   "source": [
    "employees"
   ]
  }
 ],
 "metadata": {
  "kernelspec": {
   "display_name": "Python 3",
   "language": "python",
   "name": "python3"
  },
  "language_info": {
   "codemirror_mode": {
    "name": "ipython",
    "version": 3
   },
   "file_extension": ".py",
   "mimetype": "text/x-python",
   "name": "python",
   "nbconvert_exporter": "python",
   "pygments_lexer": "ipython3",
   "version": "3.8.8"
  }
 },
 "nbformat": 4,
 "nbformat_minor": 5
}
