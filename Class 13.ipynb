{
 "cells": [
  {
   "cell_type": "code",
   "execution_count": 2,
   "metadata": {
    "id": "r9cr9JjNXa6S"
   },
   "outputs": [],
   "source": [
    "import numpy as np"
   ]
  },
  {
   "cell_type": "code",
   "execution_count": 3,
   "metadata": {
    "id": "DK9_ozpCXgpO"
   },
   "outputs": [],
   "source": [
    "my_arr = np.arange(100)"
   ]
  },
  {
   "cell_type": "code",
   "execution_count": 5,
   "metadata": {
    "colab": {
     "base_uri": "https://localhost:8080/"
    },
    "id": "U3cwdPz-YUZE",
    "outputId": "d77cd707-8f0b-40a5-a706-9c306fef7df3"
   },
   "outputs": [
    {
     "name": "stdout",
     "output_type": "stream",
     "text": [
      "[ 0  1  2  3  4  5  6  7  8  9 10 11 12 13 14 15 16 17 18 19 20 21 22 23\n",
      " 24 25 26 27 28 29 30 31 32 33 34 35 36 37 38 39 40 41 42 43 44 45 46 47\n",
      " 48 49 50 51 52 53 54 55 56 57 58 59 60 61 62 63 64 65 66 67 68 69 70 71\n",
      " 72 73 74 75 76 77 78 79 80 81 82 83 84 85 86 87 88 89 90 91 92 93 94 95\n",
      " 96 97 98 99]\n"
     ]
    }
   ],
   "source": [
    "print(my_arr)"
   ]
  },
  {
   "cell_type": "code",
   "execution_count": 6,
   "metadata": {
    "id": "5mnlzq-NYVXC"
   },
   "outputs": [],
   "source": [
    "py_arr = []\n",
    "for i in range(100):\n",
    "  py_arr.append(i)"
   ]
  },
  {
   "cell_type": "code",
   "execution_count": 8,
   "metadata": {
    "colab": {
     "base_uri": "https://localhost:8080/"
    },
    "id": "InIPXjViY0ob",
    "outputId": "fd004417-c34a-4607-9119-c58470253f7e"
   },
   "outputs": [
    {
     "name": "stdout",
     "output_type": "stream",
     "text": [
      "[0, 1, 2, 3, 4, 5, 6, 7, 8, 9, 10, 11, 12, 13, 14, 15, 16, 17, 18, 19, 20, 21, 22, 23, 24, 25, 26, 27, 28, 29, 30, 31, 32, 33, 34, 35, 36, 37, 38, 39, 40, 41, 42, 43, 44, 45, 46, 47, 48, 49, 50, 51, 52, 53, 54, 55, 56, 57, 58, 59, 60, 61, 62, 63, 64, 65, 66, 67, 68, 69, 70, 71, 72, 73, 74, 75, 76, 77, 78, 79, 80, 81, 82, 83, 84, 85, 86, 87, 88, 89, 90, 91, 92, 93, 94, 95, 96, 97, 98, 99]\n"
     ]
    }
   ],
   "source": [
    "print(py_arr)"
   ]
  },
  {
   "cell_type": "code",
   "execution_count": 9,
   "metadata": {
    "id": "Wd0LKaHGY1up"
   },
   "outputs": [],
   "source": [
    "my_list = [\n",
    " [2, 3, 4],\n",
    " [4, 5, 6, 7],\n",
    " [1,2]\n",
    "]"
   ]
  },
  {
   "cell_type": "code",
   "execution_count": 10,
   "metadata": {
    "colab": {
     "base_uri": "https://localhost:8080/"
    },
    "id": "4Z2IDiRwZoYC",
    "outputId": "9628b94b-3648-480b-9b36-548dd4479686"
   },
   "outputs": [
    {
     "data": {
      "text/plain": [
       "[[2, 3, 4], [4, 5, 6, 7], [1, 2]]"
      ]
     },
     "execution_count": 10,
     "metadata": {},
     "output_type": "execute_result"
    }
   ],
   "source": [
    "my_list"
   ]
  },
  {
   "cell_type": "code",
   "execution_count": 34,
   "metadata": {
    "id": "yd4HKiHbZpfb"
   },
   "outputs": [],
   "source": [
    "data = np.random.randint(2,5)"
   ]
  },
  {
   "cell_type": "code",
   "execution_count": 35,
   "metadata": {
    "colab": {
     "base_uri": "https://localhost:8080/"
    },
    "id": "ceGVArOmbsJs",
    "outputId": "98e5a579-92a6-4858-e6c9-0deb1fa16d98"
   },
   "outputs": [
    {
     "data": {
      "text/plain": [
       "2"
      ]
     },
     "execution_count": 35,
     "metadata": {},
     "output_type": "execute_result"
    }
   ],
   "source": [
    "data"
   ]
  },
  {
   "cell_type": "code",
   "execution_count": 52,
   "metadata": {
    "id": "mSELAJcZbuHa"
   },
   "outputs": [],
   "source": [
    "data = np.random.rand(2,4,3,5) "
   ]
  },
  {
   "cell_type": "code",
   "execution_count": 53,
   "metadata": {
    "colab": {
     "base_uri": "https://localhost:8080/"
    },
    "id": "KeJ-6ORgch_N",
    "outputId": "df5dc197-27e8-446e-a6da-23c60ef47324"
   },
   "outputs": [
    {
     "data": {
      "text/plain": [
       "array([[[[0.22264552, 0.98504519, 0.13183576, 0.46594759, 0.6405206 ],\n",
       "         [0.03543441, 0.12372973, 0.66275623, 0.16121047, 0.17869874],\n",
       "         [0.28557054, 0.39720073, 0.53486038, 0.09170064, 0.78268128]],\n",
       "\n",
       "        [[0.31280224, 0.45995657, 0.93033469, 0.45080166, 0.87116302],\n",
       "         [0.68229465, 0.81961281, 0.97527919, 0.29141365, 0.08994607],\n",
       "         [0.6129649 , 0.20712576, 0.52736259, 0.16377198, 0.16647115]],\n",
       "\n",
       "        [[0.09089343, 0.06440389, 0.80256086, 0.66831493, 0.7529434 ],\n",
       "         [0.76602308, 0.82593692, 0.58664364, 0.04967289, 0.970499  ],\n",
       "         [0.3665661 , 0.60969464, 0.01437213, 0.12076223, 0.44615601]],\n",
       "\n",
       "        [[0.68148356, 0.94777882, 0.05403732, 0.94584817, 0.59235289],\n",
       "         [0.53260264, 0.29570349, 0.91493205, 0.04612658, 0.17937533],\n",
       "         [0.84550236, 0.21793717, 0.34751789, 0.92434674, 0.4796846 ]]],\n",
       "\n",
       "\n",
       "       [[[0.22151363, 0.92675841, 0.02673512, 0.93487213, 0.15633675],\n",
       "         [0.1473622 , 0.58407142, 0.83320058, 0.19326822, 0.35603919],\n",
       "         [0.54246514, 0.32640263, 0.10413922, 0.75399022, 0.51375251]],\n",
       "\n",
       "        [[0.91720528, 0.76759386, 0.51591108, 0.05764272, 0.69826958],\n",
       "         [0.68374783, 0.70832156, 0.00184502, 0.83310689, 0.00583239],\n",
       "         [0.53557109, 0.2472042 , 0.63831143, 0.95127002, 0.39040883]],\n",
       "\n",
       "        [[0.82513353, 0.70794523, 0.40233439, 0.29101489, 0.74413335],\n",
       "         [0.02655588, 0.49660871, 0.0935698 , 0.29227791, 0.37992265],\n",
       "         [0.85432872, 0.11207207, 0.73486719, 0.34157818, 0.3070708 ]],\n",
       "\n",
       "        [[0.42361133, 0.34224942, 0.39206148, 0.25383385, 0.26705091],\n",
       "         [0.5235719 , 0.62070835, 0.45591502, 0.74327312, 0.62204805],\n",
       "         [0.9399755 , 0.25598948, 0.43165729, 0.1975438 , 0.82379518]]]])"
      ]
     },
     "execution_count": 53,
     "metadata": {},
     "output_type": "execute_result"
    }
   ],
   "source": [
    "data"
   ]
  },
  {
   "cell_type": "code",
   "execution_count": 54,
   "metadata": {
    "colab": {
     "base_uri": "https://localhost:8080/"
    },
    "id": "GJjP7cGdcioJ",
    "outputId": "644e2eb0-8d8d-4d57-c7fe-b62c3aa77f90"
   },
   "outputs": [
    {
     "data": {
      "text/plain": [
       "(2, 4, 3, 5)"
      ]
     },
     "execution_count": 54,
     "metadata": {},
     "output_type": "execute_result"
    }
   ],
   "source": [
    "data.shape"
   ]
  },
  {
   "cell_type": "code",
   "execution_count": 55,
   "metadata": {
    "colab": {
     "base_uri": "https://localhost:8080/"
    },
    "id": "SoB2ecTOduVV",
    "outputId": "d34c8132-7f93-42c5-fd72-5f687bf4b1a3"
   },
   "outputs": [
    {
     "data": {
      "text/plain": [
       "4"
      ]
     },
     "execution_count": 55,
     "metadata": {},
     "output_type": "execute_result"
    }
   ],
   "source": [
    "data.ndim"
   ]
  },
  {
   "cell_type": "code",
   "execution_count": 58,
   "metadata": {
    "colab": {
     "base_uri": "https://localhost:8080/"
    },
    "id": "kBtAmJUQf0Wu",
    "outputId": "8aa021a5-6d1c-4806-a8a4-7139eda8aee3"
   },
   "outputs": [
    {
     "data": {
      "text/plain": [
       "dtype('float64')"
      ]
     },
     "execution_count": 58,
     "metadata": {},
     "output_type": "execute_result"
    }
   ],
   "source": [
    "data.dtype"
   ]
  },
  {
   "cell_type": "code",
   "execution_count": 74,
   "metadata": {
    "id": "Xb_v3k86f4Ym"
   },
   "outputs": [],
   "source": [
    "arr = np.array([1, 2, 3, 4, 5])"
   ]
  },
  {
   "cell_type": "code",
   "execution_count": 75,
   "metadata": {
    "colab": {
     "base_uri": "https://localhost:8080/"
    },
    "id": "zw27DvPjgeLt",
    "outputId": "9c8d346e-898d-4b28-8a0e-a6ee2cf70954"
   },
   "outputs": [
    {
     "data": {
      "text/plain": [
       "array([1, 2, 3, 4, 5])"
      ]
     },
     "execution_count": 75,
     "metadata": {},
     "output_type": "execute_result"
    }
   ],
   "source": [
    "arr"
   ]
  },
  {
   "cell_type": "code",
   "execution_count": 83,
   "metadata": {
    "id": "7IjzNxW_geue"
   },
   "outputs": [],
   "source": [
    "arr2d = np.arange(120)"
   ]
  },
  {
   "cell_type": "code",
   "execution_count": 81,
   "metadata": {
    "id": "MTADXGd6hGto"
   },
   "outputs": [],
   "source": [
    "data2 = [[1, 2, 3, 4], [5, 6, 7, 8]]\n",
    "arr2 = np.array(data2)"
   ]
  },
  {
   "cell_type": "code",
   "execution_count": 82,
   "metadata": {
    "colab": {
     "base_uri": "https://localhost:8080/"
    },
    "id": "p9NXBVGRhHmP",
    "outputId": "90769a42-c93c-496e-f4cd-e8efacab3b1b"
   },
   "outputs": [
    {
     "data": {
      "text/plain": [
       "array([[1, 2, 3, 4],\n",
       "       [5, 6, 7, 8]])"
      ]
     },
     "execution_count": 82,
     "metadata": {},
     "output_type": "execute_result"
    }
   ],
   "source": [
    "arr2"
   ]
  },
  {
   "cell_type": "code",
   "execution_count": 88,
   "metadata": {
    "colab": {
     "base_uri": "https://localhost:8080/"
    },
    "id": "s9ix6ZA9iFIo",
    "outputId": "5d5067b6-7e15-40fd-e163-b0feddbe7673"
   },
   "outputs": [
    {
     "data": {
      "text/plain": [
       "array([[[  0,   1,   2,   3,   4,   5],\n",
       "        [  6,   7,   8,   9,  10,  11],\n",
       "        [ 12,  13,  14,  15,  16,  17],\n",
       "        [ 18,  19,  20,  21,  22,  23],\n",
       "        [ 24,  25,  26,  27,  28,  29],\n",
       "        [ 30,  31,  32,  33,  34,  35],\n",
       "        [ 36,  37,  38,  39,  40,  41],\n",
       "        [ 42,  43,  44,  45,  46,  47],\n",
       "        [ 48,  49,  50,  51,  52,  53],\n",
       "        [ 54,  55,  56,  57,  58,  59]],\n",
       "\n",
       "       [[ 60,  61,  62,  63,  64,  65],\n",
       "        [ 66,  67,  68,  69,  70,  71],\n",
       "        [ 72,  73,  74,  75,  76,  77],\n",
       "        [ 78,  79,  80,  81,  82,  83],\n",
       "        [ 84,  85,  86,  87,  88,  89],\n",
       "        [ 90,  91,  92,  93,  94,  95],\n",
       "        [ 96,  97,  98,  99, 100, 101],\n",
       "        [102, 103, 104, 105, 106, 107],\n",
       "        [108, 109, 110, 111, 112, 113],\n",
       "        [114, 115, 116, 117, 118, 119]]])"
      ]
     },
     "execution_count": 88,
     "metadata": {},
     "output_type": "execute_result"
    }
   ],
   "source": [
    "arr2d.reshape(2,10,6)"
   ]
  },
  {
   "cell_type": "code",
   "execution_count": 89,
   "metadata": {
    "colab": {
     "base_uri": "https://localhost:8080/"
    },
    "id": "RyToz1gUiMq_",
    "outputId": "c950c0f6-a1b9-4b5a-e25c-5bcdcada8869"
   },
   "outputs": [
    {
     "data": {
      "text/plain": [
       "array([[[4.66263296e-310, 1.06099790e-312],\n",
       "        [9.76118064e-313, 2.14321575e-312],\n",
       "        [2.20687562e-312, 2.37663529e-312]],\n",
       "\n",
       "       [[8.48798317e-313, 9.33678148e-313],\n",
       "        [1.01855798e-312, 1.14587773e-312],\n",
       "        [1.23075756e-312, 1.46030983e-319]]])"
      ]
     },
     "execution_count": 89,
     "metadata": {},
     "output_type": "execute_result"
    }
   ],
   "source": [
    "np.empty((2, 3, 2))\n"
   ]
  },
  {
   "cell_type": "code",
   "execution_count": 102,
   "metadata": {
    "id": "Ltcv0arrkdFy"
   },
   "outputs": [],
   "source": [
    "arr = np.arange(15)"
   ]
  },
  {
   "cell_type": "code",
   "execution_count": 106,
   "metadata": {
    "id": "LNWwZ7Bqk9th"
   },
   "outputs": [],
   "source": [
    "arr = arr - 1"
   ]
  },
  {
   "cell_type": "code",
   "execution_count": 107,
   "metadata": {
    "colab": {
     "base_uri": "https://localhost:8080/"
    },
    "id": "NwL3csC_k-bQ",
    "outputId": "ff3d629e-0bb8-4df8-b083-2d1934448339"
   },
   "outputs": [
    {
     "data": {
      "text/plain": [
       "array([-2, -1,  0,  1,  2,  3,  4,  5,  6,  7,  8,  9, 10, 11, 12])"
      ]
     },
     "execution_count": 107,
     "metadata": {},
     "output_type": "execute_result"
    }
   ],
   "source": [
    "arr "
   ]
  },
  {
   "cell_type": "code",
   "execution_count": null,
   "metadata": {
    "id": "3zlSPJPfk_1Y"
   },
   "outputs": [],
   "source": []
  }
 ],
 "metadata": {
  "colab": {
   "name": "Class 13.ipynb",
   "provenance": []
  },
  "kernelspec": {
   "display_name": "Python 3",
   "language": "python",
   "name": "python3"
  },
  "language_info": {
   "codemirror_mode": {
    "name": "ipython",
    "version": 3
   },
   "file_extension": ".py",
   "mimetype": "text/x-python",
   "name": "python",
   "nbconvert_exporter": "python",
   "pygments_lexer": "ipython3",
   "version": "3.8.8"
  }
 },
 "nbformat": 4,
 "nbformat_minor": 1
}
