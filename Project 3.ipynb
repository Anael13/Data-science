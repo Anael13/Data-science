{
 "cells": [
  {
   "cell_type": "code",
   "execution_count": 1,
   "id": "d450aaa6",
   "metadata": {},
   "outputs": [],
   "source": [
    "employees = {}"
   ]
  },
  {
   "cell_type": "code",
   "execution_count": 2,
   "id": "e7498987",
   "metadata": {},
   "outputs": [],
   "source": [
    "#Function 1\n",
    "\n",
    "def emp_creation(employees):\n",
    "    user_input_c = \"\"\n",
    "    if user_input == \"1\":\n",
    "        while user_input_c != \"q\":\n",
    "            emp_id = input(\"Enter id: \") \n",
    "            emp_name = input(\"Enter name: \")\n",
    "            emp_type = input(\"Enter type: \")\n",
    "            emp_age = input(\"Enter age: \")\n",
    "            emp_status = input(\"Enter status: \")\n",
    "            emp_kids = input(\"Enter number of kids: \")\n",
    "            emp_years = input(\"Enter years of experience: \")\n",
    "            emp = {}\n",
    "            emp['id'] = emp_id\n",
    "            emp['name'] = emp_name\n",
    "            emp['type'] = emp_type\n",
    "            emp['age'] = emp_age\n",
    "            emp['status'] = emp_status\n",
    "            emp['kids'] = emp_kids\n",
    "            emp['years'] = emp_years\n",
    "            employees[emp_id] = emp\n",
    "            user_input_c = input(\"Press q to exit the program.\")"
   ]
  },
  {
   "cell_type": "code",
   "execution_count": 3,
   "id": "0c0e2ab9",
   "metadata": {},
   "outputs": [],
   "source": [
    "#Function 2\n",
    "\n",
    "temp_id = \"\"\n",
    "def emp_update(employees, temp_id):\n",
    "    user_input_u = \"\"\n",
    "    if user_input == \"2\":\n",
    "        while user_input_u != \"q\":\n",
    "            temp_id = input(\"Enter the ID through what you want to edit: \")\n",
    "            employees[temp_id]['id'] = input(\"Enter id: \") \n",
    "            employees[temp_id][\"name\"] = input(\"Enter name: \")\n",
    "            employees[temp_id][\"type\"] = input(\"Enter type: \")\n",
    "            employees[temp_id][\"age\"] = input(\"Enter age: \")\n",
    "            employees[temp_id][\"status\"] = input(\"Enter status: \")\n",
    "            employees[temp_id][\"kids\"] = input(\"Enter number of kids: \")\n",
    "            employees[temp_id][\"years\"] = input(\"Enter years of experience: \")\n",
    "            user_input_u = input(\"Press q to exit the program.\")"
   ]
  },
  {
   "cell_type": "code",
   "execution_count": 4,
   "id": "6a789abe",
   "metadata": {},
   "outputs": [],
   "source": [
    "#Fuction 3\n",
    "\n",
    "def emp_read(employees):\n",
    "    user_input_r = \"\"\n",
    "    if user_input == \"3\":\n",
    "        while user_input_r != \"q\":\n",
    "            type_search = input(\"Through which type you want to search your data: \")\n",
    "            if type_search == \"id\":\n",
    "                input_id = input('Enter the id: ')\n",
    "                print(employees[input_id])\n",
    "            if type_search == \"age\":\n",
    "                input_age = input(\"Enter the age\")\n",
    "                print(employees[input_age])\n",
    "            user_input_r = input(\"Press q to exit the program.\")"
   ]
  },
  {
   "cell_type": "code",
   "execution_count": 5,
   "id": "7101af82",
   "metadata": {},
   "outputs": [],
   "source": [
    "#Function 4\n",
    "\n",
    "def emp_delete(employees):\n",
    "    user_input_d = \"\"\n",
    "    if user_input == \"4\":\n",
    "        while user_input_d != \"q\":\n",
    "            input_key = input('Enter the key of whatever you want to delete: ')\n",
    "            del employees[input_key]\n",
    "            user_input_d = input(\"Press q to exit the program.\")"
   ]
  },
  {
   "cell_type": "code",
   "execution_count": 6,
   "id": "e27f7f71",
   "metadata": {},
   "outputs": [
    {
     "name": "stdout",
     "output_type": "stream",
     "text": [
      "Press 1 to enter a new employee record. \n",
      "Press 2 to update an existing record.\n",
      "Press 3 to search from the employee records.\n",
      "Press 4 to remove a record.\n",
      "Press q to exit the program.\n",
      " q\n"
     ]
    }
   ],
   "source": [
    "user_input = \"\"\n",
    "\n",
    "while user_input != \"q\":\n",
    "    print(\"Press 1 to enter a new employee record. \")\n",
    "    print(\"Press 2 to update an existing record.\")\n",
    "    print(\"Press 3 to search from the employee records.\")\n",
    "    print(\"Press 4 to remove a record.\")\n",
    "    print(\"Press q to exit the program.\")\n",
    "    user_input = input(\" \")\n",
    "    if user_input == \"1\":\n",
    "        emp_creation(employees)\n",
    "    elif user_input == \"2\":\n",
    "        emp_update(employees, temp_id)\n",
    "    elif user_input == \"3\":\n",
    "        emp_read(employees)\n",
    "    elif user_input == \"4\":\n",
    "        emp_delete(employees)"
   ]
  },
  {
   "cell_type": "code",
   "execution_count": 7,
   "id": "fa2e4ba3",
   "metadata": {},
   "outputs": [
    {
     "data": {
      "text/plain": [
       "{}"
      ]
     },
     "execution_count": 7,
     "metadata": {},
     "output_type": "execute_result"
    }
   ],
   "source": [
    "employees"
   ]
  }
 ],
 "metadata": {
  "kernelspec": {
   "display_name": "Python 3",
   "language": "python",
   "name": "python3"
  },
  "language_info": {
   "codemirror_mode": {
    "name": "ipython",
    "version": 3
   },
   "file_extension": ".py",
   "mimetype": "text/x-python",
   "name": "python",
   "nbconvert_exporter": "python",
   "pygments_lexer": "ipython3",
   "version": "3.8.8"
  }
 },
 "nbformat": 4,
 "nbformat_minor": 5
}
