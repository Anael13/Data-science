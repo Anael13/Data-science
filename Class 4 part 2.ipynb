{
 "cells": [
  {
   "cell_type": "code",
   "execution_count": 1,
   "id": "779e334e",
   "metadata": {},
   "outputs": [
    {
     "name": "stdout",
     "output_type": "stream",
     "text": [
      "Please enter your city: karachi\n",
      "Bad!\n",
      "Bad!\n",
      "Bad!\n",
      "Bad!\n",
      "Bad!\n"
     ]
    }
   ],
   "source": [
    "cities = ['Karachi', 'Lahore', 'Quetta', 'Peshwar', 'Multan']\n",
    "city = input(\"Please enter your city: \")\n",
    "city = city.title\n",
    "for c in cities:\n",
    "    if c == city:\n",
    "        print(\"GOOD!\")\n",
    "    else:\n",
    "        print(\"Bad!\")\n"
   ]
  },
  {
   "cell_type": "code",
   "execution_count": null,
   "id": "6c429bea",
   "metadata": {},
   "outputs": [],
   "source": []
  }
 ],
 "metadata": {
  "kernelspec": {
   "display_name": "Python 3",
   "language": "python",
   "name": "python3"
  },
  "language_info": {
   "codemirror_mode": {
    "name": "ipython",
    "version": 3
   },
   "file_extension": ".py",
   "mimetype": "text/x-python",
   "name": "python",
   "nbconvert_exporter": "python",
   "pygments_lexer": "ipython3",
   "version": "3.8.8"
  }
 },
 "nbformat": 4,
 "nbformat_minor": 5
}
