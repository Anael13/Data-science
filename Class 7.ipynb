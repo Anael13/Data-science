{
 "cells": [
  {
   "cell_type": "code",
   "execution_count": 10,
   "id": "c554e7c8",
   "metadata": {},
   "outputs": [
    {
     "name": "stdout",
     "output_type": "stream",
     "text": [
      "99\n",
      "None\n"
     ]
    }
   ],
   "source": [
    "#Type1 = Takes nothing returns nothing\n",
    "\n",
    "def add():\n",
    "    print(44 + 55)\n",
    "\n",
    "result = add()"
   ]
  },
  {
   "cell_type": "code",
   "execution_count": 19,
   "id": "b263d5a5",
   "metadata": {},
   "outputs": [
    {
     "name": "stdout",
     "output_type": "stream",
     "text": [
      "The sum would be 100\n",
      "The sum would be 0\n",
      "The sum would be 2500\n",
      "The sum would be 1.0\n"
     ]
    }
   ],
   "source": [
    "#Type2 = Takes something returns nothing\n",
    "\n",
    "def num(num, num1):\n",
    "    print(\"The sum would be\", num + num1)\n",
    "def num1(num, num1):\n",
    "    print(\"The sum would be\", num - num1)\n",
    "def num2(num, num1):\n",
    "    print(\"The sum would be\", num * num1)\n",
    "def num3(num, num1):\n",
    "    print(\"The sum would be\", num / num1)\n",
    "    \n",
    "num(50, 50)\n",
    "num1(50, 50)\n",
    "num2(50, 50)\n",
    "num3(50,50)"
   ]
  },
  {
   "cell_type": "code",
   "execution_count": 37,
   "id": "63019107",
   "metadata": {},
   "outputs": [
    {
     "name": "stdout",
     "output_type": "stream",
     "text": [
      "4\n",
      "Please enter any number between 1 to 10: 4\n",
      "Amazing! you guessed the right number\n"
     ]
    }
   ],
   "source": [
    "#Type3 = Takes nothing returns something\n",
    "\n",
    "import random \n",
    "\n",
    "def return_random_number():\n",
    "    number = random.randint(1,10)\n",
    "    return number\n",
    "number = return_random_number()\n",
    "print(number)\n",
    "num = int(input(\"Please enter any number between 1 to 10: \"))\n",
    "if num == number:\n",
    "    print(\"Amazing! you guessed the right number\")\n",
    "else:\n",
    "    print(\"You guessed the wrong number\")\n"
   ]
  },
  {
   "cell_type": "code",
   "execution_count": 48,
   "id": "730e4a0a",
   "metadata": {},
   "outputs": [
    {
     "name": "stdout",
     "output_type": "stream",
     "text": [
      "Enter your name: a\n",
      "Enter your sir name: b\n",
      "a b\n"
     ]
    }
   ],
   "source": [
    "#Type4 = Takes something return something\n",
    "\n",
    "def name(n, sn):\n",
    "    full_name = n + \" \" +  sn\n",
    "    return full_name\n",
    "    print(full_name)\n",
    "    \n",
    "n = input(\"Enter your name: \")\n",
    "sn = input(\"Enter your sir name: \")\n",
    "full_name = name(n, sn)\n",
    "print(full_name)\n",
    "\n",
    "def num(n, n1):\n",
    "    final_value = n +  n1\n",
    "    return final_value\n",
    "    print(final_value)\n",
    "    \n",
    "n = int(input(\"Enter a number: \"))\n",
    "n1 = int(input(\"Enter another name: \"))\n",
    "final_value = num(n, n1)\n",
    "print(final_value)"
   ]
  },
  {
   "cell_type": "code",
   "execution_count": 70,
   "id": "c7ad8578",
   "metadata": {},
   "outputs": [
    {
     "name": "stdout",
     "output_type": "stream",
     "text": [
      "5300.0\n"
     ]
    }
   ],
   "source": [
    "def calculate_tax(total_amount, tax_ratio = 0.06):\n",
    "    result = total_amount * tax_ratio\n",
    "    total_price = result + total_amount\n",
    "    print(total_price)\n",
    "calculate_tax(5000)"
   ]
  },
  {
   "cell_type": "code",
   "execution_count": null,
   "id": "ec354355",
   "metadata": {},
   "outputs": [],
   "source": []
  }
 ],
 "metadata": {
  "kernelspec": {
   "display_name": "Python 3",
   "language": "python",
   "name": "python3"
  },
  "language_info": {
   "codemirror_mode": {
    "name": "ipython",
    "version": 3
   },
   "file_extension": ".py",
   "mimetype": "text/x-python",
   "name": "python",
   "nbconvert_exporter": "python",
   "pygments_lexer": "ipython3",
   "version": "3.8.8"
  }
 },
 "nbformat": 4,
 "nbformat_minor": 5
}
