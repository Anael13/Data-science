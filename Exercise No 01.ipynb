{
 "cells": [
  {
   "cell_type": "markdown",
   "metadata": {},
   "source": [
    "# Q1 ) \n",
    "Write an if statement that asks for the user's name via input() function. If the name is \"Bond\" make it print \"Welcome on board 007.\" Otherwise make it print \"Good morning NAME\". (Replace Name with user's name)"
   ]
  },
  {
   "cell_type": "code",
   "execution_count": 1,
   "metadata": {},
   "outputs": [
    {
     "name": "stdout",
     "output_type": "stream",
     "text": [
      "Please enter your name: a\n",
      "Good morning a\n"
     ]
    }
   ],
   "source": [
    "name = input(\"Please enter your name: \")\n",
    "if name == \"Bond\":\n",
    "    print(\"Welcome on board 007\")\n",
    "else:\n",
    "    print(\"Good morning\", name)"
   ]
  },
  {
   "cell_type": "raw",
   "metadata": {},
   "source": [
    "# Q2 )Print the following pattern \n",
    "1 \n",
    "1 2 \n",
    "1 2 3 \n",
    "1 2 3 4\n",
    "1 2 3 4 5"
   ]
  },
  {
   "cell_type": "code",
   "execution_count": 4,
   "metadata": {},
   "outputs": [
    {
     "name": "stdout",
     "output_type": "stream",
     "text": [
      "1 \n",
      "1 2 \n",
      "1 2 3\n",
      "1 2 3 4\n",
      "1 2 3 4 5\n"
     ]
    }
   ],
   "source": [
    "print(\"1 \")\n",
    "print(\"1 2 \")\n",
    "print(\"1 2 3\")\n",
    "print(\"1 2 3 4\")\n",
    "print(\"1 2 3 4 5\")"
   ]
  },
  {
   "cell_type": "markdown",
   "metadata": {},
   "source": [
    "# Q3)\n",
    "Accept number from user and calculate the sum of all number from 1 to a given number <br>\n",
    "For example, if user entered 10 the output should be 55."
   ]
  },
  {
   "cell_type": "code",
   "execution_count": null,
   "metadata": {},
   "outputs": [],
   "source": []
  },
  {
   "cell_type": "markdown",
   "metadata": {},
   "source": [
    "# Q4) \n",
    "Print multiplication table of a given number <br>\n",
    "For example, num = 2 so the output should be <br>\n",
    "\n",
    "\n",
    "2\n",
    "4\n",
    "6\n",
    "8\n",
    "10\n",
    "12\n",
    "14\n",
    "16\n",
    "18\n",
    "20"
   ]
  },
  {
   "cell_type": "code",
   "execution_count": 6,
   "metadata": {},
   "outputs": [
    {
     "name": "stdout",
     "output_type": "stream",
     "text": [
      "Enter a number: 30\n",
      "30 x 1 = 30\n",
      "30 x 2 = 60\n",
      "30 x 3 = 90\n",
      "30 x 4 = 120\n",
      "30 x 5 = 150\n",
      "30 x 6 = 180\n",
      "30 x 7 = 210\n",
      "30 x 8 = 240\n",
      "30 x 9 = 270\n",
      "30 x 10 = 300\n"
     ]
    }
   ],
   "source": [
    "num = int(input(\"Enter a number: \"))\n",
    "for i in range(1, 11):\n",
    "   print(num, 'x', i, '=', num*i)\n"
   ]
  },
  {
   "cell_type": "markdown",
   "metadata": {},
   "source": [
    "# Q5) \n",
    "Given a list, iterate it, and display numbers divisible by five, and if you find a number greater than 150, stop the loop iteration.  <br>\n",
    "list1 = [12, 15, 32, 42, 55, 75, 122, 132, 150, 180, 200]"
   ]
  },
  {
   "cell_type": "code",
   "execution_count": null,
   "metadata": {},
   "outputs": [],
   "source": [
    "list1 = [12, 15, 32, 42, 55, 75, 122, 132, 150, 180, 200]\n",
    "\n",
    "print(list1[])"
   ]
  },
  {
   "cell_type": "markdown",
   "metadata": {},
   "source": [
    "# Q6)\n",
    "Given a number count the total number of digits in a number <br>\n",
    "For example, the number is 75869, so the output should be 5."
   ]
  },
  {
   "cell_type": "code",
   "execution_count": null,
   "metadata": {},
   "outputs": [],
   "source": []
  },
  {
   "cell_type": "markdown",
   "metadata": {},
   "source": [
    "# Q7) \n",
    "Reverse print the following list using for loop <br>\n",
    "list1 = [10, 20, 30, 40, 50]"
   ]
  },
  {
   "cell_type": "code",
   "execution_count": null,
   "metadata": {},
   "outputs": [],
   "source": []
  },
  {
   "cell_type": "markdown",
   "metadata": {},
   "source": [
    "# Q8)\n",
    " Reverse a given integer number <br>\n",
    "Given:<br>\n",
    "\n",
    "76542<br>\n",
    "\n",
    "Expected output:<br>\n",
    "\n",
    "24567<br>"
   ]
  },
  {
   "cell_type": "code",
   "execution_count": null,
   "metadata": {},
   "outputs": [],
   "source": []
  },
  {
   "cell_type": "markdown",
   "metadata": {},
   "source": [
    "# Q9) \n",
    "Display the cube of the number up to a given integer"
   ]
  },
  {
   "cell_type": "code",
   "execution_count": null,
   "metadata": {},
   "outputs": [],
   "source": []
  },
  {
   "cell_type": "markdown",
   "metadata": {},
   "source": [
    "# Q10)\n",
    "Take two int values from user and print greatest among them.\n"
   ]
  },
  {
   "cell_type": "code",
   "execution_count": null,
   "metadata": {},
   "outputs": [],
   "source": []
  }
 ],
 "metadata": {
  "kernelspec": {
   "display_name": "Python 3",
   "language": "python",
   "name": "python3"
  },
  "language_info": {
   "codemirror_mode": {
    "name": "ipython",
    "version": 3
   },
   "file_extension": ".py",
   "mimetype": "text/x-python",
   "name": "python",
   "nbconvert_exporter": "python",
   "pygments_lexer": "ipython3",
   "version": "3.8.8"
  }
 },
 "nbformat": 4,
 "nbformat_minor": 4
}
