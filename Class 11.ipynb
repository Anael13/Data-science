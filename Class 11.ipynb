{
 "cells": [
  {
   "cell_type": "code",
   "execution_count": 19,
   "id": "7dc05841",
   "metadata": {},
   "outputs": [],
   "source": [
    "import csv"
   ]
  },
  {
   "cell_type": "code",
   "execution_count": 31,
   "id": "e85d5ebe",
   "metadata": {},
   "outputs": [
    {
     "name": "stdout",
     "output_type": "stream",
     "text": [
      "Enter students name: Anael\n",
      "Enter students father name: Mumtaz\n",
      "Enter students class: \n",
      "Enter students age: 12\n",
      "Enter a to add more data or q to exit: q\n"
     ]
    }
   ],
   "source": [
    "con = \"\"\n",
    "with open(\"students.csv\", \"a\", newline=\"\") as f:\n",
    "    data_handler = csv.writer(f, delimiter=\",\")\n",
    "    data_handler.writerow([\"Name\", \"Father name\", \"Class\", \"Age\"])\n",
    "while con != 'q':\n",
    "    s_name = input(\"Enter students name: \")\n",
    "    s_fname = input(\"Enter students father name: \")\n",
    "    s_class = input(\"Enter students class: \")\n",
    "    s_age = input(\"Enter students age: \")\n",
    "    with open(\"students.csv\", \"a\", newline=\"\") as f:\n",
    "        data_handler = csv.writer(f, delimiter=\",\")\n",
    "        data_handler.writerow([s_name, s_fname, s_class, s_age])\n",
    "    con = input(\"Enter a to add more data or q to exit: \")"
   ]
  },
  {
   "cell_type": "code",
   "execution_count": 33,
   "id": "e4e6ca9a",
   "metadata": {},
   "outputs": [
    {
     "name": "stdout",
     "output_type": "stream",
     "text": [
      "['[]', '[]']\n",
      "[]\n",
      "['Name', 'Father name', 'Class', 'Age']\n",
      "['Anael', 'Mumtaz', '', '12']\n"
     ]
    }
   ],
   "source": [
    "with open(\"students.csv\", \"r\") as f:\n",
    "    data_reader = csv.reader(f)\n",
    "    for i in data_reader:\n",
    "        print(i)"
   ]
  },
  {
   "cell_type": "code",
   "execution_count": 34,
   "id": "88f90f5a",
   "metadata": {},
   "outputs": [],
   "source": [
    "data = []\n",
    "\n",
    "with open(\"students.csv\", \"r\") as f:\n",
    "    data_reader = csv.reader(f)\n",
    "    for i in data_reader:\n",
    "        data.append(i)\n",
    "for i in data:\n",
    "    for j in i:\n",
    "        if(j==\"Anael\"):\n",
    "            i[2] = \"8\"\n",
    "with open('students.csv', \"w\") as f:\n",
    "    data_writer = csv.writer(f, delimiter=\",\")\n",
    "    data_writer.writerows([data])"
   ]
  },
  {
   "cell_type": "code",
   "execution_count": 37,
   "id": "b45ae2fa",
   "metadata": {},
   "outputs": [],
   "source": [
    "#jsons file    \n",
    "\n",
    "import json\n",
    "\n",
    "user_data = {\n",
    "    'user_name' : 'Anael',\n",
    "    'user_father_name' : 'Mumtaz',\n",
    "    'user_age' : \"12\",\n",
    "    \"user_email\" : \"anael123@gmail.com\"\n",
    "}\n",
    "\n",
    "with open('users.json', \"w\") as f:\n",
    "    json.dump(user_data,f)"
   ]
  },
  {
   "cell_type": "code",
   "execution_count": 44,
   "id": "051b6ce2",
   "metadata": {},
   "outputs": [
    {
     "name": "stdout",
     "output_type": "stream",
     "text": [
      "{'user_name': 'Anael', 'user_father_name': 'Mumtaz', 'user_age': '12', 'user_email': 'anael123@gmail.com'}\n"
     ]
    }
   ],
   "source": [
    "with open('users.json', \"r\") as f:\n",
    "    user_data = json.load(f)\n",
    "    print(user_data)"
   ]
  }
 ],
 "metadata": {
  "kernelspec": {
   "display_name": "Python 3",
   "language": "python",
   "name": "python3"
  },
  "language_info": {
   "codemirror_mode": {
    "name": "ipython",
    "version": 3
   },
   "file_extension": ".py",
   "mimetype": "text/x-python",
   "name": "python",
   "nbconvert_exporter": "python",
   "pygments_lexer": "ipython3",
   "version": "3.8.8"
  }
 },
 "nbformat": 4,
 "nbformat_minor": 5
}
