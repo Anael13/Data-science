{
 "cells": [
  {
   "cell_type": "code",
   "execution_count": 1,
   "id": "a6b99100",
   "metadata": {},
   "outputs": [],
   "source": [
    "import pandas as pd \n",
    "import numpy as np"
   ]
  },
  {
   "cell_type": "code",
   "execution_count": 2,
   "id": "5818145a",
   "metadata": {},
   "outputs": [],
   "source": [
    "data = pd.read_excel('test.xlsx')"
   ]
  },
  {
   "cell_type": "code",
   "execution_count": 3,
   "id": "a7ec545f",
   "metadata": {
    "scrolled": false
   },
   "outputs": [],
   "source": [
    "data = data.reindex([\"Emp N0\", \"Name\", \"History\", \"Date\"],axis = 1)"
   ]
  },
  {
   "cell_type": "code",
   "execution_count": 4,
   "id": "240bfde4",
   "metadata": {},
   "outputs": [],
   "source": [
    "new_data = pd.DataFrame()"
   ]
  },
  {
   "cell_type": "code",
   "execution_count": 5,
   "id": "bc1ca401",
   "metadata": {},
   "outputs": [],
   "source": [
    "new_data['Per'] = \"\""
   ]
  },
  {
   "cell_type": "code",
   "execution_count": 6,
   "id": "f84742e8",
   "metadata": {},
   "outputs": [
    {
     "data": {
      "text/html": [
       "<div>\n",
       "<style scoped>\n",
       "    .dataframe tbody tr th:only-of-type {\n",
       "        vertical-align: middle;\n",
       "    }\n",
       "\n",
       "    .dataframe tbody tr th {\n",
       "        vertical-align: top;\n",
       "    }\n",
       "\n",
       "    .dataframe thead th {\n",
       "        text-align: right;\n",
       "    }\n",
       "</style>\n",
       "<table border=\"1\" class=\"dataframe\">\n",
       "  <thead>\n",
       "    <tr style=\"text-align: right;\">\n",
       "      <th></th>\n",
       "      <th>Per</th>\n",
       "    </tr>\n",
       "  </thead>\n",
       "  <tbody>\n",
       "  </tbody>\n",
       "</table>\n",
       "</div>"
      ],
      "text/plain": [
       "Empty DataFrame\n",
       "Columns: [Per]\n",
       "Index: []"
      ]
     },
     "execution_count": 6,
     "metadata": {},
     "output_type": "execute_result"
    }
   ],
   "source": [
    "new_data"
   ]
  },
  {
   "cell_type": "code",
   "execution_count": null,
   "id": "e47213fd",
   "metadata": {},
   "outputs": [],
   "source": []
  },
  {
   "cell_type": "code",
   "execution_count": 7,
   "id": "93aec1c5",
   "metadata": {},
   "outputs": [],
   "source": [
    "new_data['Per'] = data[\"Emp N0\"].unique()\n",
    "new_data['Name'] = data[\"Name\"].unique()\n",
    "data[\"Date of Assinment\"] = \"\""
   ]
  },
  {
   "cell_type": "code",
   "execution_count": 8,
   "id": "e066f9ff",
   "metadata": {},
   "outputs": [],
   "source": [
    "new_data[\"Date of Assinment\"] = data[(data[\"Emp N0\"] == 1500)& (data[\"History\"]  == \"Date of Assinment\")][\"Date\"]"
   ]
  },
  {
   "cell_type": "code",
   "execution_count": 9,
   "id": "516627cd",
   "metadata": {},
   "outputs": [],
   "source": [
    "new_data.drop('Date of Assinment', axis = 1, inplace = True)"
   ]
  },
  {
   "cell_type": "code",
   "execution_count": 10,
   "id": "af16eabb",
   "metadata": {},
   "outputs": [],
   "source": [
    "for i in data['History'].unique():\n",
    "    new_data[i] = \"\""
   ]
  },
  {
   "cell_type": "code",
   "execution_count": 11,
   "id": "8ad4625f",
   "metadata": {},
   "outputs": [
    {
     "ename": "NameError",
     "evalue": "name 'new_datanew_data' is not defined",
     "output_type": "error",
     "traceback": [
      "\u001b[1;31m---------------------------------------------------------------------------\u001b[0m",
      "\u001b[1;31mNameError\u001b[0m                                 Traceback (most recent call last)",
      "\u001b[1;32m<ipython-input-11-395a7e7d0758>\u001b[0m in \u001b[0;36m<module>\u001b[1;34m\u001b[0m\n\u001b[0;32m      1\u001b[0m \u001b[1;32mfor\u001b[0m \u001b[0mi\u001b[0m \u001b[1;32min\u001b[0m \u001b[0mnew_data\u001b[0m\u001b[1;33m[\u001b[0m\u001b[1;34m'Per'\u001b[0m\u001b[1;33m]\u001b[0m\u001b[1;33m:\u001b[0m\u001b[1;33m\u001b[0m\u001b[1;33m\u001b[0m\u001b[0m\n\u001b[1;32m----> 2\u001b[1;33m     \u001b[0mnew_datanew_data\u001b[0m\u001b[1;33m[\u001b[0m\u001b[1;34m\"Date of Join\"\u001b[0m\u001b[1;33m]\u001b[0m \u001b[1;33m=\u001b[0m \u001b[0mdata\u001b[0m\u001b[1;33m[\u001b[0m\u001b[1;33m(\u001b[0m\u001b[0mdata\u001b[0m\u001b[1;33m[\u001b[0m\u001b[1;34m\"Emp N0\"\u001b[0m\u001b[1;33m]\u001b[0m \u001b[1;33m==\u001b[0m \u001b[0mi\u001b[0m\u001b[1;33m)\u001b[0m\u001b[1;33m&\u001b[0m \u001b[1;33m(\u001b[0m\u001b[0mdata\u001b[0m\u001b[1;33m[\u001b[0m\u001b[1;34m\"History\"\u001b[0m\u001b[1;33m]\u001b[0m  \u001b[1;33m==\u001b[0m \u001b[1;34m\"Date of Join\"\u001b[0m\u001b[1;33m)\u001b[0m\u001b[1;33m]\u001b[0m\u001b[1;33m[\u001b[0m\u001b[1;34m\"Date\"\u001b[0m\u001b[1;33m]\u001b[0m\u001b[1;33m\u001b[0m\u001b[1;33m\u001b[0m\u001b[0m\n\u001b[0m",
      "\u001b[1;31mNameError\u001b[0m: name 'new_datanew_data' is not defined"
     ]
    }
   ],
   "source": [
    "for i in new_data['Per']:\n",
    "    new_datanew_data[\"Date of Join\"] = data[(data[\"Emp N0\"] == i)& (data[\"History\"]  == \"Date of Join\")][\"Date\"]"
   ]
  },
  {
   "cell_type": "code",
   "execution_count": 12,
   "id": "86eb61ad",
   "metadata": {},
   "outputs": [
    {
     "data": {
      "text/html": [
       "<div>\n",
       "<style scoped>\n",
       "    .dataframe tbody tr th:only-of-type {\n",
       "        vertical-align: middle;\n",
       "    }\n",
       "\n",
       "    .dataframe tbody tr th {\n",
       "        vertical-align: top;\n",
       "    }\n",
       "\n",
       "    .dataframe thead th {\n",
       "        text-align: right;\n",
       "    }\n",
       "</style>\n",
       "<table border=\"1\" class=\"dataframe\">\n",
       "  <thead>\n",
       "    <tr style=\"text-align: right;\">\n",
       "      <th></th>\n",
       "      <th>Per</th>\n",
       "      <th>Name</th>\n",
       "      <th>Date of Join</th>\n",
       "      <th>Date of last Appraisal</th>\n",
       "      <th>Date of Assinment</th>\n",
       "      <th>Date of Termination</th>\n",
       "    </tr>\n",
       "  </thead>\n",
       "  <tbody>\n",
       "    <tr>\n",
       "      <th>0</th>\n",
       "      <td>1500</td>\n",
       "      <td>saad</td>\n",
       "      <td></td>\n",
       "      <td></td>\n",
       "      <td></td>\n",
       "      <td></td>\n",
       "    </tr>\n",
       "    <tr>\n",
       "      <th>1</th>\n",
       "      <td>1501</td>\n",
       "      <td>danish</td>\n",
       "      <td></td>\n",
       "      <td></td>\n",
       "      <td></td>\n",
       "      <td></td>\n",
       "    </tr>\n",
       "    <tr>\n",
       "      <th>2</th>\n",
       "      <td>1502</td>\n",
       "      <td>Ahad</td>\n",
       "      <td></td>\n",
       "      <td></td>\n",
       "      <td></td>\n",
       "      <td></td>\n",
       "    </tr>\n",
       "    <tr>\n",
       "      <th>3</th>\n",
       "      <td>1503</td>\n",
       "      <td>Karim</td>\n",
       "      <td></td>\n",
       "      <td></td>\n",
       "      <td></td>\n",
       "      <td></td>\n",
       "    </tr>\n",
       "    <tr>\n",
       "      <th>4</th>\n",
       "      <td>1504</td>\n",
       "      <td>Saleem</td>\n",
       "      <td></td>\n",
       "      <td></td>\n",
       "      <td></td>\n",
       "      <td></td>\n",
       "    </tr>\n",
       "    <tr>\n",
       "      <th>5</th>\n",
       "      <td>1505</td>\n",
       "      <td>Tipu</td>\n",
       "      <td></td>\n",
       "      <td></td>\n",
       "      <td></td>\n",
       "      <td></td>\n",
       "    </tr>\n",
       "    <tr>\n",
       "      <th>6</th>\n",
       "      <td>1506</td>\n",
       "      <td>Sohni</td>\n",
       "      <td></td>\n",
       "      <td></td>\n",
       "      <td></td>\n",
       "      <td></td>\n",
       "    </tr>\n",
       "    <tr>\n",
       "      <th>7</th>\n",
       "      <td>1507</td>\n",
       "      <td>Ahsan</td>\n",
       "      <td></td>\n",
       "      <td></td>\n",
       "      <td></td>\n",
       "      <td></td>\n",
       "    </tr>\n",
       "    <tr>\n",
       "      <th>8</th>\n",
       "      <td>1508</td>\n",
       "      <td>Hassan</td>\n",
       "      <td></td>\n",
       "      <td></td>\n",
       "      <td></td>\n",
       "      <td></td>\n",
       "    </tr>\n",
       "    <tr>\n",
       "      <th>9</th>\n",
       "      <td>1509</td>\n",
       "      <td>Tariq</td>\n",
       "      <td></td>\n",
       "      <td></td>\n",
       "      <td></td>\n",
       "      <td></td>\n",
       "    </tr>\n",
       "  </tbody>\n",
       "</table>\n",
       "</div>"
      ],
      "text/plain": [
       "    Per    Name Date of Join Date of last Appraisal Date of Assinment  \\\n",
       "0  1500    saad                                                         \n",
       "1  1501  danish                                                         \n",
       "2  1502    Ahad                                                         \n",
       "3  1503   Karim                                                         \n",
       "4  1504  Saleem                                                         \n",
       "5  1505    Tipu                                                         \n",
       "6  1506   Sohni                                                         \n",
       "7  1507   Ahsan                                                         \n",
       "8  1508  Hassan                                                         \n",
       "9  1509   Tariq                                                         \n",
       "\n",
       "  Date of Termination  \n",
       "0                      \n",
       "1                      \n",
       "2                      \n",
       "3                      \n",
       "4                      \n",
       "5                      \n",
       "6                      \n",
       "7                      \n",
       "8                      \n",
       "9                      "
      ]
     },
     "execution_count": 12,
     "metadata": {},
     "output_type": "execute_result"
    }
   ],
   "source": [
    "new_data"
   ]
  },
  {
   "cell_type": "code",
   "execution_count": 14,
   "id": "da86667f",
   "metadata": {},
   "outputs": [],
   "source": [
    "for i in data['History'].unique():\n",
    "    new_data[i] = \"\""
   ]
  },
  {
   "cell_type": "code",
   "execution_count": 18,
   "id": "51e0a3c2",
   "metadata": {},
   "outputs": [],
   "source": [
    "new_c = []\n",
    "for i in new_data[\"Per\"]:\n",
    "    new_c.append(data[(data[\"Emp N0\"] == i)& (data[\"History\"] == \"Date of Join\")][\"Date\"].iloc[0])\n",
    "new_data[\"Date of Join\"] = new_c"
   ]
  },
  {
   "cell_type": "code",
   "execution_count": 21,
   "id": "bc75622c",
   "metadata": {},
   "outputs": [],
   "source": [
    "new_d = []\n",
    "for i in new_data[\"Per\"]:\n",
    "    new_d.append(data[(data[\"Emp N0\"] == i)& (data[\"History\"] == \"Date of last Appraisal\")][\"Date\"].iloc[0])\n",
    "new_data[\"Date of last Appraisal\"] = new_d"
   ]
  },
  {
   "cell_type": "code",
   "execution_count": 23,
   "id": "cd021e64",
   "metadata": {},
   "outputs": [],
   "source": [
    "new_v = []\n",
    "for i in new_data[\"Per\"]:\n",
    "    new_v.append(data[(data[\"Emp N0\"] == i)& (data[\"History\"] == \"Date of Assinment\")][\"Date\"].iloc[0])\n",
    "new_data[\"Date of Assinment\"] = new_v"
   ]
  },
  {
   "cell_type": "code",
   "execution_count": 25,
   "id": "1b9bc95f",
   "metadata": {},
   "outputs": [],
   "source": [
    "new_a = []\n",
    "for i in new_data[\"Per\"]:\n",
    "    new_a.append(data[(data[\"Emp N0\"] == i)& (data[\"History\"] == \"Date of Termination\")][\"Date\"].iloc[0])\n",
    "new_data[\"Date of Termination\"] = new_a"
   ]
  },
  {
   "cell_type": "code",
   "execution_count": 26,
   "id": "5bf97850",
   "metadata": {},
   "outputs": [
    {
     "data": {
      "text/html": [
       "<div>\n",
       "<style scoped>\n",
       "    .dataframe tbody tr th:only-of-type {\n",
       "        vertical-align: middle;\n",
       "    }\n",
       "\n",
       "    .dataframe tbody tr th {\n",
       "        vertical-align: top;\n",
       "    }\n",
       "\n",
       "    .dataframe thead th {\n",
       "        text-align: right;\n",
       "    }\n",
       "</style>\n",
       "<table border=\"1\" class=\"dataframe\">\n",
       "  <thead>\n",
       "    <tr style=\"text-align: right;\">\n",
       "      <th></th>\n",
       "      <th>Per</th>\n",
       "      <th>Name</th>\n",
       "      <th>Date of Join</th>\n",
       "      <th>Date of last Appraisal</th>\n",
       "      <th>Date of Assinment</th>\n",
       "      <th>Date of Termination</th>\n",
       "    </tr>\n",
       "  </thead>\n",
       "  <tbody>\n",
       "    <tr>\n",
       "      <th>0</th>\n",
       "      <td>1500</td>\n",
       "      <td>saad</td>\n",
       "      <td>2020-01-01</td>\n",
       "      <td>2021-01-01 00:00:00</td>\n",
       "      <td>2020-01-06</td>\n",
       "      <td>2021-01-12</td>\n",
       "    </tr>\n",
       "    <tr>\n",
       "      <th>1</th>\n",
       "      <td>1501</td>\n",
       "      <td>danish</td>\n",
       "      <td>2019-01-01</td>\n",
       "      <td>2021-01-01 00:00:00</td>\n",
       "      <td>2020-01-06</td>\n",
       "      <td>2021-01-12</td>\n",
       "    </tr>\n",
       "    <tr>\n",
       "      <th>2</th>\n",
       "      <td>1502</td>\n",
       "      <td>Ahad</td>\n",
       "      <td>2020-01-01</td>\n",
       "      <td>2021-01-01 00:00:00</td>\n",
       "      <td>2020-01-06</td>\n",
       "      <td>2021-01-12</td>\n",
       "    </tr>\n",
       "    <tr>\n",
       "      <th>3</th>\n",
       "      <td>1503</td>\n",
       "      <td>Karim</td>\n",
       "      <td>1981-06-11</td>\n",
       "      <td>2017-01-01 00:00:00</td>\n",
       "      <td>1981-06-11</td>\n",
       "      <td>2021-06-12</td>\n",
       "    </tr>\n",
       "    <tr>\n",
       "      <th>4</th>\n",
       "      <td>1504</td>\n",
       "      <td>Saleem</td>\n",
       "      <td>1981-06-11</td>\n",
       "      <td>2017-01-01 00:00:00</td>\n",
       "      <td>1981-06-11</td>\n",
       "      <td>2021-06-12</td>\n",
       "    </tr>\n",
       "    <tr>\n",
       "      <th>5</th>\n",
       "      <td>1505</td>\n",
       "      <td>Tipu</td>\n",
       "      <td>1983-08-25</td>\n",
       "      <td>2020-12-11 00:00:00</td>\n",
       "      <td>2017-01-01</td>\n",
       "      <td>2023-08-25</td>\n",
       "    </tr>\n",
       "    <tr>\n",
       "      <th>6</th>\n",
       "      <td>1506</td>\n",
       "      <td>Sohni</td>\n",
       "      <td>1983-08-25</td>\n",
       "      <td>2020-12-11 00:00:00</td>\n",
       "      <td>2017-01-01</td>\n",
       "      <td>2023-08-25</td>\n",
       "    </tr>\n",
       "    <tr>\n",
       "      <th>7</th>\n",
       "      <td>1507</td>\n",
       "      <td>Ahsan</td>\n",
       "      <td>2020-01-01</td>\n",
       "      <td>2021-01-01 00:00:00</td>\n",
       "      <td>2020-01-06</td>\n",
       "      <td>2030-01-01</td>\n",
       "    </tr>\n",
       "    <tr>\n",
       "      <th>8</th>\n",
       "      <td>1508</td>\n",
       "      <td>Hassan</td>\n",
       "      <td>1990-10-06</td>\n",
       "      <td>20/05/2020</td>\n",
       "      <td>2020-01-01</td>\n",
       "      <td>2024-02-02</td>\n",
       "    </tr>\n",
       "    <tr>\n",
       "      <th>9</th>\n",
       "      <td>1509</td>\n",
       "      <td>Tariq</td>\n",
       "      <td>1990-10-06</td>\n",
       "      <td>20/05/2020</td>\n",
       "      <td>2020-01-01</td>\n",
       "      <td>2024-02-02</td>\n",
       "    </tr>\n",
       "  </tbody>\n",
       "</table>\n",
       "</div>"
      ],
      "text/plain": [
       "    Per    Name Date of Join Date of last Appraisal Date of Assinment  \\\n",
       "0  1500    saad   2020-01-01    2021-01-01 00:00:00        2020-01-06   \n",
       "1  1501  danish   2019-01-01    2021-01-01 00:00:00        2020-01-06   \n",
       "2  1502    Ahad   2020-01-01    2021-01-01 00:00:00        2020-01-06   \n",
       "3  1503   Karim   1981-06-11    2017-01-01 00:00:00        1981-06-11   \n",
       "4  1504  Saleem   1981-06-11    2017-01-01 00:00:00        1981-06-11   \n",
       "5  1505    Tipu   1983-08-25    2020-12-11 00:00:00        2017-01-01   \n",
       "6  1506   Sohni   1983-08-25    2020-12-11 00:00:00        2017-01-01   \n",
       "7  1507   Ahsan   2020-01-01    2021-01-01 00:00:00        2020-01-06   \n",
       "8  1508  Hassan   1990-10-06             20/05/2020        2020-01-01   \n",
       "9  1509   Tariq   1990-10-06             20/05/2020        2020-01-01   \n",
       "\n",
       "  Date of Termination  \n",
       "0          2021-01-12  \n",
       "1          2021-01-12  \n",
       "2          2021-01-12  \n",
       "3          2021-06-12  \n",
       "4          2021-06-12  \n",
       "5          2023-08-25  \n",
       "6          2023-08-25  \n",
       "7          2030-01-01  \n",
       "8          2024-02-02  \n",
       "9          2024-02-02  "
      ]
     },
     "execution_count": 26,
     "metadata": {},
     "output_type": "execute_result"
    }
   ],
   "source": [
    "new_data"
   ]
  },
  {
   "cell_type": "code",
   "execution_count": null,
   "id": "2bde654d",
   "metadata": {},
   "outputs": [],
   "source": []
  }
 ],
 "metadata": {
  "kernelspec": {
   "display_name": "Python 3",
   "language": "python",
   "name": "python3"
  },
  "language_info": {
   "codemirror_mode": {
    "name": "ipython",
    "version": 3
   },
   "file_extension": ".py",
   "mimetype": "text/x-python",
   "name": "python",
   "nbconvert_exporter": "python",
   "pygments_lexer": "ipython3",
   "version": "3.8.8"
  }
 },
 "nbformat": 4,
 "nbformat_minor": 5
}
