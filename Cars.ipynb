{
 "cells": [
  {
   "cell_type": "code",
   "execution_count": 1,
   "id": "3f714435",
   "metadata": {},
   "outputs": [],
   "source": [
    "cars = []\n"
   ]
  },
  {
   "cell_type": "code",
   "execution_count": 2,
   "id": "f99716c2",
   "metadata": {},
   "outputs": [
    {
     "name": "stdout",
     "output_type": "stream",
     "text": [
      "Enter car's name: \n",
      "Enter car's high speed: \n",
      "Enter car's handling: \n",
      "Enter car's horse power: \n",
      "Enter car's breaking power: \n"
     ]
    }
   ],
   "source": [
    "car_name= input(\"Enter car's name: \")\n",
    "car_high_speed = input(\"Enter car's high speed: \")\n",
    "car_handling = input(\"Enter car's handling: \")\n",
    "car_horse_power = input(\"Enter car's horse power: \")\n",
    "car_breaking_power = input(\"Enter car's breaking power: \")\n",
    "\n",
    "car = {}\n",
    "car['name'] = car_name\n",
    "car['top_speed'] = car_high_speed\n",
    "car['handling'] = car_handling\n",
    "car['horse_power'] = car_horse_power\n",
    "car['breaking_power'] = car_breaking_power\n",
    "\n",
    "cars.append(car)"
   ]
  },
  {
   "cell_type": "code",
   "execution_count": 3,
   "id": "3b1d1eb3",
   "metadata": {},
   "outputs": [
    {
     "name": "stdout",
     "output_type": "stream",
     "text": [
      "Pleass tell the first car you want to race: \n",
      "Pleass tell the second car you want to race: \n",
      "Sorry, the race would not be fair\n"
     ]
    }
   ],
   "source": [
    "race_choice1 = input(\"Pleass tell the first car you want to race: \")\n",
    "race_choice2 = input(\"Pleass tell the second car you want to race: \")\n",
    "\n",
    "if race_choice1 != 'mehran' or race_choice1 != 'Audi' or race_choice1 !='Affan' and race_choice2 != 'mehran' or race_choice2 != 'Audi' or race_choice2 != 'Affan':\n",
    "    print(\"Sorry, the race would not be fair\")\n",
    "elif race_choice1 == 'mehran' or race_choice1 ==  'Audi' or race_choice1 ==  'Affan' and race_choice2 == 'mehran' or race_choice2 == 'Audi' or race_choice2 == 'Affan':\n",
    "    print(\"The race would start shortly\")\n",
    "else:\n",
    "    print(\"Please wait there is some error in our system\")\n"
   ]
  },
  {
   "cell_type": "code",
   "execution_count": null,
   "id": "9b92dae1",
   "metadata": {},
   "outputs": [],
   "source": []
  },
  {
   "cell_type": "code",
   "execution_count": null,
   "id": "4d197e62",
   "metadata": {},
   "outputs": [],
   "source": []
  }
 ],
 "metadata": {
  "kernelspec": {
   "display_name": "Python 3",
   "language": "python",
   "name": "python3"
  },
  "language_info": {
   "codemirror_mode": {
    "name": "ipython",
    "version": 3
   },
   "file_extension": ".py",
   "mimetype": "text/x-python",
   "name": "python",
   "nbconvert_exporter": "python",
   "pygments_lexer": "ipython3",
   "version": "3.8.8"
  }
 },
 "nbformat": 4,
 "nbformat_minor": 5
}
